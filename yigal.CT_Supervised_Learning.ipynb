{
 "cells": [
  {
   "metadata": {},
   "cell_type": "markdown",
   "source": "# Environments Settings",
   "id": "affb9d992d63284"
  },
  {
   "metadata": {
    "ExecuteTime": {
     "end_time": "2025-07-28T20:17:58.974236Z",
     "start_time": "2025-07-28T20:17:57.051039Z"
    }
   },
   "cell_type": "code",
   "source": [
    "def set_seed_for_gpu(seed=42):\n",
    "    import os, random, numpy as np, tensorflow as tf\n",
    "    os.environ['PYTHONHASHSEED'] = str(seed)\n",
    "    os.environ['TF_DETERMINISTIC_OPS'] = '1'\n",
    "    random.seed(seed)\n",
    "    np.random.seed(seed)\n",
    "    tf.random.set_seed(seed)\n",
    "    tf.config.threading.set_intra_op_parallelism_threads(1)\n",
    "    tf.config.threading.set_inter_op_parallelism_threads(1)\n",
    "\n",
    "set_seed_for_gpu()"
   ],
   "id": "1c0c03bcdea94038",
   "outputs": [],
   "execution_count": 1
  },
  {
   "metadata": {},
   "cell_type": "markdown",
   "source": "# CT 3D Concepts",
   "id": "9e03fb4a40707333"
  },
  {
   "metadata": {},
   "cell_type": "markdown",
   "source": "#### View",
   "id": "f6944b149d9a10ae"
  },
  {
   "metadata": {},
   "cell_type": "code",
   "source": [
    "from dimentions_exploration_3D_2D import ThreeDExploration\n",
    "\n",
    "dimension_exp  = ThreeDExploration()\n",
    "\n",
    "# dimension_exp.plot_voxel_planes_highlighted_v2(volume_shape=(17, 13, 11), voxel_coords=(8, 6, 5))\n",
    "dimension_exp.plot_voxel_planes_highlighted_interactive(volume_shape=(17, 13, 11))\n",
    "\n",
    "import cv2\n",
    "img_path = 'medical_images/slices_kind.png'\n",
    "img_path_2 = 'medical_images/Human_anatomy_planes.jpg'\n",
    "\n"
   ],
   "id": "943ad245cc6b58c4",
   "outputs": [],
   "execution_count": null
  },
  {
   "metadata": {},
   "cell_type": "markdown",
   "source": "#### Matrix",
   "id": "1e04de909ecb0215"
  },
  {
   "metadata": {},
   "cell_type": "code",
   "source": [
    "from dimentions_exploration_3D_2D import ThreeDExploration\n",
    "\n",
    "dimension_exp  = ThreeDExploration()\n",
    "\n",
    "volume = dimension_exp.create_ct_volume(shape=(3, 3, 3))  # Feel free to change dimensions\n",
    "\n",
    "print(volume)\n"
   ],
   "id": "204719912a5a912c",
   "outputs": [],
   "execution_count": null
  },
  {
   "metadata": {},
   "cell_type": "code",
   "source": [
    "dimension_exp.view_slice(volume, 'sagittal', 0)\n",
    "dimension_exp.view_slice(volume, 'coronal', 0)\n",
    "dimension_exp.view_slice(volume, 'axial', 0)"
   ],
   "id": "dc95b427c0c5d98e",
   "outputs": [],
   "execution_count": null
  },
  {
   "metadata": {},
   "cell_type": "code",
   "source": [
    "from ct_visualizer import CTVisualizer\n",
    "from ct_image_processing import ImageProcessing\n",
    "\n",
    "root = 'ct_images/' #'/Users/yigal/CT-Datasets/'\n",
    "\n",
    "liver_images_path = f\"{root}Task03_Liver/imagesTr/\"\n",
    "liver_labels_path = f\"{root}Task03_Liver/labelsTr/\"\n"
   ],
   "id": "f1f1d898ec35a43b",
   "outputs": [],
   "execution_count": null
  },
  {
   "metadata": {},
   "cell_type": "code",
   "source": [
    "\n",
    "image_name = \"liver_10.nii.gz\"\n",
    "\n",
    "imgProcessor = ImageProcessing()\n",
    "ctVisualizer = CTVisualizer()\n",
    "\n",
    "ct_image, ct_image_info = imgProcessor.loadCTImage(f\"{liver_images_path}{image_name}\")\n",
    "ct_labels,  ct_labels_info = imgProcessor.loadCTLabel(f\"{liver_labels_path}{image_name}\")\n",
    "\n",
    "slice_num = -1 # middle\n",
    "\n",
    "imgProcessor.print_ct_info(ct_image_info)\n",
    "ctVisualizer.display_ct_data(ct_image, slice_num=slice_num)\n",
    "\n",
    "imgProcessor.print_ct_info(ct_labels_info)\n",
    "ctVisualizer.display_ct_data(ct_labels, slice_num=slice_num)\n"
   ],
   "id": "f3a091b3bd57f8df",
   "outputs": [],
   "execution_count": null
  },
  {
   "metadata": {},
   "cell_type": "code",
   "source": [
    "image_name = \"liver_10.nii.gz\"\n",
    "\n",
    "imgProcessor = ImageProcessing()\n",
    "ctVisualizer = CTVisualizer()\n",
    "\n",
    "plane_kind = ['Sagittal', 'Coronal', 'Axial']\n",
    "ct_slices, label_slices, info = imgProcessor.load_image_and_labels_slices(f\"{liver_images_path}{image_name}\",\n",
    "                                                                f\"{liver_labels_path}{image_name}\",\n",
    "                                                                          plane=plane_kind[2],\n",
    "                                                                          only_labeled_slices=True)\n",
    "\n",
    "processing_options = {\n",
    "    'target_size': (256, 256),\n",
    "    'hu_window': (30, 180),\n",
    "}\n",
    "\n",
    "resized_ct_slices, resized_label_slices = imgProcessor.resize_all_slices(ct_slices, label_slices,\n",
    "                                                                         binary=True,\n",
    "                                                                         target_size=processing_options['target_size'],\n",
    "                                                                         hu_window=processing_options['hu_window'])\n",
    "\n",
    "print ('CT Image Name:', image_name)\n",
    "\n",
    "print('CT Image Info:', info)\n",
    "\n",
    "print('Processing Info:', processing_options)\n",
    "\n",
    "slice_index = 50\n",
    "\n",
    "ctVisualizer.display_single_slice(resized_ct_slices, resized_label_slices, slice_index=slice_index)\n"
   ],
   "id": "1d971cd249f07f2c",
   "outputs": [],
   "execution_count": null
  },
  {
   "metadata": {},
   "cell_type": "markdown",
   "source": "# Dataset Preparation",
   "id": "2f4c387b0a329f19"
  },
  {
   "metadata": {
    "ExecuteTime": {
     "end_time": "2025-07-28T20:18:02.063635Z",
     "start_time": "2025-07-28T20:18:02.061711Z"
    }
   },
   "cell_type": "code",
   "source": [
    "\n",
    "number_of_ct_patients = 25\n"
   ],
   "id": "15f422a98d7922a8",
   "outputs": [],
   "execution_count": 2
  },
  {
   "metadata": {},
   "cell_type": "markdown",
   "source": "#### Load Datasets | Training | Global Test",
   "id": "180799866be90a6d"
  },
  {
   "metadata": {
    "ExecuteTime": {
     "end_time": "2025-07-28T20:18:07.319462Z",
     "start_time": "2025-07-28T20:18:06.216139Z"
    }
   },
   "cell_type": "code",
   "source": [
    "from ct_image_processing import ImageProcessing\n",
    "import numpy as np\n",
    "\n",
    "imgProcessor = ImageProcessing()\n",
    "\n",
    "# Load Dataset\n",
    "\n",
    "X_all, Y_all, patient_ids = imgProcessor.load_dataset(f\"datasets/liver_dataset_{number_of_ct_patients}.npz\")\n",
    "\n",
    "print(len(X_all), len(Y_all), len(patient_ids))\n",
    "\n",
    "total_slices = sum(x.shape[0] for x in X_all)\n",
    "print(f\"Total 2D slices: {total_slices}\")\n",
    "\n",
    "# X_all = np.concatenate(X_all_list, axis=0)\n",
    "# Y_all = np.concatenate(Y_all_list, axis=0)"
   ],
   "id": "8d9eb236c97f8c4c",
   "outputs": [
    {
     "name": "stdout",
     "output_type": "stream",
     "text": [
      "25 25 25\n",
      "Total 2D slices: 3869\n"
     ]
    }
   ],
   "execution_count": 3
  },
  {
   "metadata": {
    "ExecuteTime": {
     "end_time": "2025-07-28T20:18:07.794224Z",
     "start_time": "2025-07-28T20:18:07.321737Z"
    }
   },
   "cell_type": "code",
   "source": [
    "from ct_image_processing import ImageProcessing\n",
    "import numpy as np\n",
    "\n",
    "imgProcessor = ImageProcessing()\n",
    "\n",
    "num_test_patients = 10\n",
    "\n",
    "# Load Dataset\n",
    "\n",
    "X_global_test_list, Y_global_test_list, patient_ids_test = imgProcessor.load_dataset(f\"datasets/test_liver_dataset_{num_test_patients}.npz\")\n",
    "\n",
    "print(len(X_global_test_list), len(Y_global_test_list), len(patient_ids_test))\n",
    "\n",
    "total_slices = sum(x.shape[0] for x in X_global_test_list)\n",
    "print(f\"Total 2D slices: {total_slices}\")\n",
    "\n",
    "X_global_test = np.concatenate(X_global_test_list, axis=0)\n",
    "Y_global_test = np.concatenate(Y_global_test_list, axis=0)\n"
   ],
   "id": "8f5bff814e3b611b",
   "outputs": [
    {
     "name": "stdout",
     "output_type": "stream",
     "text": [
      "10 10 10\n",
      "Total 2D slices: 1720\n"
     ]
    }
   ],
   "execution_count": 4
  },
  {
   "metadata": {},
   "cell_type": "markdown",
   "source": "### Create Dataset | Training | Global Test",
   "id": "3221e5a189329716"
  },
  {
   "metadata": {},
   "cell_type": "code",
   "source": [
    "from ct_image_processing import ImageProcessing\n",
    "from ct_visualizer import CTVisualizer\n",
    "\n",
    "root = 'ct_images/' #'/Users/yigal/CT-Datasets/'\n",
    "\n",
    "liver_images_path = f\"{root}Task03_Liver/imagesTr/\"\n",
    "liver_labels_path = f\"{root}Task03_Liver/labelsTr/\"\n",
    "\n",
    "liver_images_test_path = f\"{root}Task03_Liver/imagesTs/\"\n",
    "liver_labels_test_path = f\"{root}Task03_Liver/labelsTs/\"\n",
    "\n",
    "imgProcessor = ImageProcessing()\n",
    "\n",
    "ctVisualizer = CTVisualizer()\n",
    "\n",
    "X_all = []\n",
    "Y_all = []\n"
   ],
   "id": "35daf5158ac1de5d",
   "outputs": [],
   "execution_count": null
  },
  {
   "metadata": {},
   "cell_type": "markdown",
   "source": "#### global tests (dataset)",
   "id": "b722e68f4e337e85"
  },
  {
   "metadata": {},
   "cell_type": "code",
   "source": [
    "import numpy as np\n",
    "\n",
    "num_test_patients = 10\n",
    "\n",
    "X_global_test_list, Y_global_test_list, patient_ids_test, total_test = imgProcessor.create_dataset(liver_images_test_path,\n",
    "                                                        liver_labels_test_path,\n",
    "                                                        binary=True,\n",
    "                                                        target_size=(256, 256),\n",
    "                                                        hu_window=(30, 180),\n",
    "                                                        number_of_ct_patients=num_test_patients,\n",
    "                                                        labeled_only=True,\n",
    "                                                        patient_offset=121)\n",
    "\n",
    "print(total_test)\n",
    "\n",
    "total_slices = sum(x.shape[0] for x in X_global_test_list)\n",
    "print(f\"Total 2D slices: {total_slices}\")\n",
    "\n",
    "X_global_test = np.concatenate(X_global_test_list, axis=0)\n",
    "Y_global_test = np.concatenate(Y_global_test_list, axis=0)\n",
    "\n",
    "print(X_global_test.shape, Y_global_test.shape)\n"
   ],
   "id": "25ffc0daeb9641",
   "outputs": [],
   "execution_count": null
  },
  {
   "metadata": {},
   "cell_type": "code",
   "source": [
    "if (len(X_global_test_list) > 0 and len(Y_global_test_list) > 0):\n",
    "    imgProcessor.save_dataset(X_global_test_list, Y_global_test_list, patient_ids_test, f\"datasets/test_liver_dataset_{num_test_patients}.npz\")\n",
    "else:\n",
    "    print('X_all || Y_all are empty')"
   ],
   "id": "99f861f944b93db0",
   "outputs": [],
   "execution_count": null
  },
  {
   "metadata": {},
   "cell_type": "code",
   "source": [
    "# Show Samples\n",
    "number_of_samples = 2\n",
    "number_of_slices = 2\n",
    "for i in range(number_of_samples):\n",
    "    print(f\"Sample {i}: liver_{i}.nii.gz\")\n",
    "    ctVisualizer.display_XY_samples_v2(X_global_test[i], Y_global_test[i], max_slices=number_of_slices)"
   ],
   "id": "cc1ad4b6e2005c27",
   "outputs": [],
   "execution_count": null
  },
  {
   "metadata": {},
   "cell_type": "code",
   "source": [
    "import matplotlib.pyplot as plt\n",
    "\n",
    "# Choose patient index and slice index\n",
    "patient_idx = 0\n",
    "slice_idx = 15  # or any valid index for that patient\n",
    "\n",
    "# Extract the slice (shape: 256x256x1)\n",
    "slice_img = X_global_test[patient_idx][slice_idx]\n",
    "\n",
    "# Remove channel dim if needed (256x256x1 → 256x256)\n",
    "if slice_img.ndim == 3 and slice_img.shape[-1] == 1:\n",
    "    slice_img = slice_img.squeeze(-1)\n",
    "\n",
    "# Plot it\n",
    "plt.imshow(slice_img, cmap='gray')\n",
    "plt.title(f\"Patient {patient_idx}, Slice {slice_idx}\")\n",
    "plt.axis('off')\n",
    "plt.show()"
   ],
   "id": "188721e19852c01b",
   "outputs": [],
   "execution_count": null
  },
  {
   "metadata": {},
   "cell_type": "markdown",
   "source": "#### Training Set (datasset)",
   "id": "e934d6af72c2da7d"
  },
  {
   "metadata": {},
   "cell_type": "code",
   "source": [
    "\n",
    "# Create Dataset\n",
    "print(f\"Start Building CT Dataset with {number_of_ct_patients} patients\")\n",
    "\n",
    "X_all, Y_all, patient_ids, total = imgProcessor.create_dataset(liver_images_path,\n",
    "                                                        liver_labels_path,\n",
    "                                                        binary=True,\n",
    "                                                        target_size=(256, 256),\n",
    "                                                        hu_window=(30, 180),\n",
    "                                                        number_of_ct_patients=number_of_ct_patients,\n",
    "                                                        labeled_only=True)\n",
    "\n",
    "print(total)\n",
    "print('Len (X, Y, Patients):', len(X_all), len(Y_all), len(patient_ids))\n",
    "print(f'Sample Patient Shapes ({patient_ids[2]}): X[2] Y[2]:', X_all[2].shape, Y_all[2].shape)\n",
    "\n",
    "# for 130 patients: {'total_labeled_slices': 18922, 'total_slices': 58014}\n"
   ],
   "id": "3e24468d93cfa9ff",
   "outputs": [],
   "execution_count": null
  },
  {
   "metadata": {},
   "cell_type": "code",
   "source": [
    "# Save Dataset\n",
    "\n",
    "if (len(X_all) > 0 and len(Y_all) > 0):\n",
    "    imgProcessor.save_dataset(X_all, Y_all, patient_ids, f\"datasets/liver_dataset_{number_of_ct_patients}.npz\")\n",
    "else:\n",
    "    print('X_all || Y_all are empty')"
   ],
   "id": "a9e2007db4edab23",
   "outputs": [],
   "execution_count": null
  },
  {
   "metadata": {},
   "cell_type": "code",
   "source": [
    "\n",
    "# Show Samples\n",
    "number_of_samples = 1\n",
    "number_of_slices = 2\n",
    "for i in range(number_of_samples):\n",
    "    print(f\"Sample {i}: liver_{i}.nii.gz\")\n",
    "    ctVisualizer.display_XY_samples_v2(X_all[i], Y_all[i], max_slices=number_of_slices)\n"
   ],
   "id": "653a0d77307b410b",
   "outputs": [],
   "execution_count": null
  },
  {
   "metadata": {},
   "cell_type": "markdown",
   "source": "# Dataset Splitting - Training | Validation | Test",
   "id": "f06e62e892eadc5a"
  },
  {
   "metadata": {
    "ExecuteTime": {
     "end_time": "2025-07-28T20:18:08.678866Z",
     "start_time": "2025-07-28T20:18:08.480790Z"
    }
   },
   "cell_type": "code",
   "source": [
    "# Splitting the data\n",
    "\n",
    "from sklearn.model_selection import train_test_split\n",
    "import numpy as np\n",
    "\n",
    "# Split patients into train, val, test (by index)\n",
    "train_idx, test_idx = train_test_split(range(number_of_ct_patients), test_size=0.05, random_state=42)\n",
    "train_idx, val_idx = train_test_split(train_idx, test_size=0.05, random_state=42)\n",
    "\n",
    "# Combine slices from selected patients\n",
    "X_train = np.concatenate([X_all[i] for i in train_idx])\n",
    "Y_train = np.concatenate([Y_all[i] for i in train_idx])\n",
    "\n",
    "X_val = np.concatenate([X_all[i] for i in val_idx])\n",
    "Y_val = np.concatenate([Y_all[i] for i in val_idx])\n",
    "\n",
    "X_test = np.concatenate([X_all[i] for i in test_idx])\n",
    "Y_test = np.concatenate([Y_all[i] for i in test_idx])\n",
    "\n",
    "print(\"Splits by patients:\")\n",
    "\n",
    "print(len(train_idx), len(val_idx), len(test_idx))\n",
    "\n",
    "print(X_train.shape, X_val.shape, X_test.shape)"
   ],
   "id": "cba50e706a35167e",
   "outputs": [
    {
     "name": "stdout",
     "output_type": "stream",
     "text": [
      "Splits by patients:\n",
      "21 2 2\n",
      "(3139, 256, 256, 1) (364, 256, 256, 1) (366, 256, 256, 1)\n"
     ]
    }
   ],
   "execution_count": 5
  },
  {
   "metadata": {},
   "cell_type": "markdown",
   "source": "# SSL Training",
   "id": "402ed53ad8994102"
  },
  {
   "metadata": {},
   "cell_type": "code",
   "source": [
    "import importlib\n",
    "import sys\n",
    "\n",
    "# Reload the module\n",
    "module_path = 'ct_image_processing'\n",
    "\n",
    "if module_path in sys.modules:\n",
    "    importlib.reload(sys.modules[module_path])\n",
    "else:\n",
    "    import ImageProcessing\n",
    "    importlib.reload(ImageProcessing)\n",
    "\n",
    "# Re-import the class\n",
    "from ct_image_processing import ImageProcessing\n",
    "\n",
    "imgProcessor = ImageProcessing()"
   ],
   "id": "f4341db7f2000607",
   "outputs": [],
   "execution_count": null
  },
  {
   "metadata": {},
   "cell_type": "code",
   "source": [
    "import numpy as np\n",
    "\n",
    "masked_X_all_list = []\n",
    "original_X_all_list = []\n",
    "\n",
    "for X_patient in X_all:\n",
    "    # Remove channel dim for consistency\n",
    "    X_squeezed = X_patient.squeeze(-1)  # shape: (num_slices, 256, 256)\n",
    "\n",
    "    # Save original (before masking), re-expand channel dim\n",
    "    original_X = X_squeezed[..., np.newaxis]  # shape: (num_slices, 256, 256, 1)\n",
    "    original_X_all_list.append(original_X)\n",
    "\n",
    "    # Generate masked input\n",
    "    masked_X = imgProcessor.generate_masked_images(\n",
    "        X_squeezed,\n",
    "        patch_size=16,\n",
    "        mask_ratio=0.75,\n",
    "        seed=42\n",
    "    )\n",
    "    masked_X = masked_X[..., np.newaxis]  # shape: (num_slices, 256, 256, 1)\n",
    "    masked_X_all_list.append(masked_X)\n",
    "\n",
    "# Final arrays\n",
    "masked_X_all = np.concatenate(masked_X_all_list, axis=0)     # shape: (N, 256, 256, 1)\n",
    "original_X_all = np.concatenate(original_X_all_list, axis=0) # shape: (N, 256, 256, 1)\n",
    "\n",
    "print(f'masked: {masked_X_all.shape}')\n",
    "print(f'original: {original_X_all.shape}')"
   ],
   "id": "85089bc35b131e1e",
   "outputs": [],
   "execution_count": null
  },
  {
   "metadata": {},
   "cell_type": "code",
   "source": [
    "from ct_visualizer import CTVisualizer\n",
    "\n",
    "ctVisualizer = CTVisualizer()\n",
    "\n",
    "ctVisualizer.display_XY_samples_v2(masked_X_all, original_X_all, max_slices=2)"
   ],
   "id": "7cf9b08c59dbe108",
   "outputs": [],
   "execution_count": null
  },
  {
   "metadata": {},
   "cell_type": "code",
   "source": [
    "from sklearn.model_selection import train_test_split\n",
    "import numpy as np\n",
    "\n",
    "# Total number of slices\n",
    "num_slices = masked_X_all.shape[0]\n",
    "\n",
    "# Create slice indices\n",
    "all_indices = np.arange(num_slices)\n",
    "\n",
    "# Split slice indices (80% train, 20% test)\n",
    "train_idx_ssl, test_idx_ssl = train_test_split(all_indices, test_size=0.05, random_state=42)\n",
    "train_idx_ssl, val_idx_ssl = train_test_split(train_idx_ssl, test_size=0.05, random_state=42)  # 16% val, 64% train\n",
    "\n",
    "# Split the arrays\n",
    "X_train_ssl = masked_X_all[train_idx_ssl]\n",
    "Y_train_ssl = original_X_all[train_idx_ssl]\n",
    "\n",
    "X_val_ssl = masked_X_all[val_idx_ssl]\n",
    "Y_val_ssl = original_X_all[val_idx_ssl]\n",
    "\n",
    "X_test_ssl = masked_X_all[test_idx_ssl]\n",
    "Y_test_ssl = original_X_all[test_idx_ssl]\n",
    "\n",
    "# Print summary\n",
    "print(\"Splits by slices:\")\n",
    "print(\"Train:\", X_train_ssl.shape)\n",
    "print(\"Val:  \", X_val_ssl.shape)\n",
    "print(\"Test: \", X_test_ssl.shape)"
   ],
   "id": "449c1784620c8bf7",
   "outputs": [],
   "execution_count": null
  },
  {
   "metadata": {},
   "cell_type": "code",
   "source": [
    "import importlib\n",
    "import sys\n",
    "\n",
    "# Reload the module\n",
    "module_path = 'UNet_Model.unet_segmentation_pipeline'\n",
    "\n",
    "if module_path in sys.modules:\n",
    "    importlib.reload(sys.modules[module_path])\n",
    "else:\n",
    "    import UNet_Model.unet_segmentation_pipeline\n",
    "    importlib.reload(UNet_Model.unet_segmentation_pipeline)\n",
    "\n",
    "# Re-import the class\n",
    "\n",
    "from UNet_Model.unet_segmentation_pipeline import UNetSegmentationPipeline\n",
    "\n",
    "model_name = f\"best_model_mae_120_full.keras\"\n",
    "\n",
    "pipeline = UNetSegmentationPipeline.load(model_name)\n",
    "\n",
    "pipeline.summary()"
   ],
   "id": "6b15938fcffcc51a",
   "outputs": [],
   "execution_count": null
  },
  {
   "metadata": {},
   "cell_type": "code",
   "source": [
    "import importlib\n",
    "import sys\n",
    "\n",
    "# Reload the module\n",
    "module_path = 'UNet_Model.unet_segmentation_pipeline'\n",
    "\n",
    "if module_path in sys.modules:\n",
    "    importlib.reload(sys.modules[module_path])\n",
    "else:\n",
    "    import UNet_Model.unet_segmentation_pipeline\n",
    "    importlib.reload(UNet_Model.unet_segmentation_pipeline)\n",
    "\n",
    "# Re-import the class\n",
    "from UNet_Model.unet_segmentation_pipeline import UNetSegmentationPipeline\n",
    "\n",
    "pipeline = UNetSegmentationPipeline(input_shape=(256, 256, 1))"
   ],
   "id": "10683ea5ffed76b0",
   "outputs": [],
   "execution_count": null
  },
  {
   "metadata": {},
   "cell_type": "code",
   "source": [
    "\n",
    "print(X_train_ssl.shape, X_val_ssl.shape, X_test_ssl.shape)\n",
    "\n",
    "num_epochs = 35\n",
    "\n",
    "history = pipeline.fit(X_train_ssl, Y_train_ssl, X_val_ssl, Y_val_ssl, epochs=num_epochs, batch_size=16, verbose=2)\n"
   ],
   "id": "2edef11d6b4c8290",
   "outputs": [],
   "execution_count": null
  },
  {
   "metadata": {},
   "cell_type": "code",
   "source": [
    "from UNet_Model.orig_segmentation_evaluator import SegmentationEvaluator\n",
    "\n",
    "evaluator = SegmentationEvaluator(pipeline)\n",
    "\n",
    "Y_pred = pipeline.predict(X_test_ssl)\n",
    "Y_pred_binary = (Y_pred > 0.5).astype(np.float32)\n",
    "\n",
    "dice_scores = [evaluator.compute_dice(Y_test_ssl[i], Y_pred_binary[i])\n",
    "               for i in range(len(Y_test_ssl))]\n",
    "\n",
    "evaluator.visualize_masked(X_test_ssl, Y_test_ssl, Y_pred_binary, dice_scores, num_examples=10, seed=42)"
   ],
   "id": "67ed54ac3afc2cc9",
   "outputs": [],
   "execution_count": null
  },
  {
   "metadata": {},
   "cell_type": "code",
   "source": [
    "# saving the pipeline encoder\n",
    "encoder_model_name = f\"UNet_Model/saved_models/encoder_unet_ct_liver_{number_of_ct_patients}_{num_epochs}_8ptc_50rti_full.keras\"\n",
    "\n",
    "pipeline.encoder.save(encoder_model_name)\n",
    "\n",
    "print('Saved model:', encoder_model_name)\n"
   ],
   "id": "a7b00b694f2969a",
   "outputs": [],
   "execution_count": null
  },
  {
   "metadata": {},
   "cell_type": "markdown",
   "source": "# Supervised Learning Training",
   "id": "ae50451c48c4b18f"
  },
  {
   "metadata": {},
   "cell_type": "markdown",
   "source": "#### Building the pipeline",
   "id": "6c750710ac4a494c"
  },
  {
   "metadata": {},
   "cell_type": "code",
   "source": [
    "\n",
    "import importlib\n",
    "import sys\n",
    "\n",
    "# Reload the module\n",
    "module_path = 'UNet_Model.unet_segmentation_pipeline'\n",
    "\n",
    "if module_path in sys.modules:\n",
    "    importlib.reload(sys.modules[module_path])\n",
    "else:\n",
    "    import UNet_Model.unet_segmentation_pipeline\n",
    "    importlib.reload(UNet_Model.unet_segmentation_pipeline)\n",
    "\n",
    "# Re-import the class\n",
    "\n",
    "from UNet_Model.unet_segmentation_pipeline import UNetSegmentationPipeline\n",
    "\n",
    "model_name = f\"UNet_Model/saved_models/unet_ct_liver_mae_120_encoder_25_tr_lr_8_best_full.keras\"\n",
    "\n",
    "pipeline = UNetSegmentationPipeline.load(model_name)\n",
    "\n",
    "pipeline.summary()\n"
   ],
   "id": "3d1a4f840a009327",
   "outputs": [],
   "execution_count": null
  },
  {
   "metadata": {
    "ExecuteTime": {
     "end_time": "2025-07-28T20:18:30.141920Z",
     "start_time": "2025-07-28T20:18:29.745572Z"
    }
   },
   "cell_type": "code",
   "source": [
    "### W/O SSL\n",
    "import importlib\n",
    "import sys\n",
    "\n",
    "# Reload the module\n",
    "module_path = 'UNet_Model.unet_segmentation_pipeline'\n",
    "\n",
    "if module_path in sys.modules:\n",
    "    importlib.reload(sys.modules[module_path])\n",
    "else:\n",
    "    import UNet_Model.unet_segmentation_pipeline\n",
    "    importlib.reload(UNet_Model.unet_segmentation_pipeline)\n",
    "\n",
    "# Re-import the class\n",
    "from UNet_Model.unet_segmentation_pipeline import UNetSegmentationPipeline\n",
    "\n",
    "use_encoder = True\n",
    "\n",
    "# Build and train model\n",
    "if use_encoder:\n",
    "    encoder_path = f\"UNet_Model/saved_models/encoder_unet_ct_liver_120_35_8ptc_50rti_full.keras\"\n",
    "else:\n",
    "    encoder_path = None\n",
    "\n",
    "pipeline = UNetSegmentationPipeline(input_shape=(256, 256, 1), encoder_weights_path=encoder_path, freeze_encoder=True)\n",
    "\n",
    "pipeline.summary()\n"
   ],
   "id": "78f97545d6c02448",
   "outputs": [
    {
     "name": "stderr",
     "output_type": "stream",
     "text": [
      "2025-07-28 23:18:29.756426: I metal_plugin/src/device/metal_device.cc:1154] Metal device set to: Apple M4 Pro\n",
      "2025-07-28 23:18:29.756459: I metal_plugin/src/device/metal_device.cc:296] systemMemory: 48.00 GB\n",
      "2025-07-28 23:18:29.756463: I metal_plugin/src/device/metal_device.cc:313] maxCacheSize: 18.00 GB\n",
      "2025-07-28 23:18:29.756484: I tensorflow/core/common_runtime/pluggable_device/pluggable_device_factory.cc:305] Could not identify NUMA node of platform GPU ID 0, defaulting to 0. Your kernel may not have been built with NUMA support.\n",
      "2025-07-28 23:18:29.756494: I tensorflow/core/common_runtime/pluggable_device/pluggable_device_factory.cc:271] Created TensorFlow device (/job:localhost/replica:0/task:0/device:GPU:0 with 0 MB memory) -> physical PluggableDevice (device: 0, name: METAL, pci bus id: <undefined>)\n"
     ]
    },
    {
     "name": "stdout",
     "output_type": "stream",
     "text": [
      "Loading encoder weights from: UNet_Model/saved_models/encoder_unet_ct_liver_120_35_8ptc_50rti_full.keras\n",
      "Freezing encoder layers.\n"
     ]
    },
    {
     "data": {
      "text/plain": [
       "\u001B[1mModel: \"unet\"\u001B[0m\n"
      ],
      "text/html": [
       "<pre style=\"white-space:pre;overflow-x:auto;line-height:normal;font-family:Menlo,'DejaVu Sans Mono',consolas,'Courier New',monospace\"><span style=\"font-weight: bold\">Model: \"unet\"</span>\n",
       "</pre>\n"
      ]
     },
     "metadata": {},
     "output_type": "display_data"
    },
    {
     "data": {
      "text/plain": [
       "┏━━━━━━━━━━━━━━━━━━━━━┳━━━━━━━━━━━━━━━━━━━┳━━━━━━━━━━━━┳━━━━━━━━━━━━━━━━━━━┓\n",
       "┃\u001B[1m \u001B[0m\u001B[1mLayer (type)       \u001B[0m\u001B[1m \u001B[0m┃\u001B[1m \u001B[0m\u001B[1mOutput Shape     \u001B[0m\u001B[1m \u001B[0m┃\u001B[1m \u001B[0m\u001B[1m   Param #\u001B[0m\u001B[1m \u001B[0m┃\u001B[1m \u001B[0m\u001B[1mConnected to     \u001B[0m\u001B[1m \u001B[0m┃\n",
       "┡━━━━━━━━━━━━━━━━━━━━━╇━━━━━━━━━━━━━━━━━━━╇━━━━━━━━━━━━╇━━━━━━━━━━━━━━━━━━━┩\n",
       "│ input_layer         │ (\u001B[38;5;45mNone\u001B[0m, \u001B[38;5;34m256\u001B[0m, \u001B[38;5;34m256\u001B[0m,  │          \u001B[38;5;34m0\u001B[0m │ -                 │\n",
       "│ (\u001B[38;5;33mInputLayer\u001B[0m)        │ \u001B[38;5;34m1\u001B[0m)                │            │                   │\n",
       "├─────────────────────┼───────────────────┼────────────┼───────────────────┤\n",
       "│ input_batch_norm    │ (\u001B[38;5;45mNone\u001B[0m, \u001B[38;5;34m256\u001B[0m, \u001B[38;5;34m256\u001B[0m,  │          \u001B[38;5;34m4\u001B[0m │ input_layer[\u001B[38;5;34m0\u001B[0m][\u001B[38;5;34m0\u001B[0m] │\n",
       "│ (\u001B[38;5;33mBatchNormalizatio…\u001B[0m │ \u001B[38;5;34m1\u001B[0m)                │            │                   │\n",
       "├─────────────────────┼───────────────────┼────────────┼───────────────────┤\n",
       "│ conv2d (\u001B[38;5;33mConv2D\u001B[0m)     │ (\u001B[38;5;45mNone\u001B[0m, \u001B[38;5;34m256\u001B[0m, \u001B[38;5;34m256\u001B[0m,  │        \u001B[38;5;34m640\u001B[0m │ input_batch_norm… │\n",
       "│                     │ \u001B[38;5;34m64\u001B[0m)               │            │                   │\n",
       "├─────────────────────┼───────────────────┼────────────┼───────────────────┤\n",
       "│ conv2d_1 (\u001B[38;5;33mConv2D\u001B[0m)   │ (\u001B[38;5;45mNone\u001B[0m, \u001B[38;5;34m256\u001B[0m, \u001B[38;5;34m256\u001B[0m,  │     \u001B[38;5;34m36,928\u001B[0m │ conv2d[\u001B[38;5;34m0\u001B[0m][\u001B[38;5;34m0\u001B[0m]      │\n",
       "│                     │ \u001B[38;5;34m64\u001B[0m)               │            │                   │\n",
       "├─────────────────────┼───────────────────┼────────────┼───────────────────┤\n",
       "│ max_pooling2d       │ (\u001B[38;5;45mNone\u001B[0m, \u001B[38;5;34m128\u001B[0m, \u001B[38;5;34m128\u001B[0m,  │          \u001B[38;5;34m0\u001B[0m │ conv2d_1[\u001B[38;5;34m0\u001B[0m][\u001B[38;5;34m0\u001B[0m]    │\n",
       "│ (\u001B[38;5;33mMaxPooling2D\u001B[0m)      │ \u001B[38;5;34m64\u001B[0m)               │            │                   │\n",
       "├─────────────────────┼───────────────────┼────────────┼───────────────────┤\n",
       "│ conv2d_2 (\u001B[38;5;33mConv2D\u001B[0m)   │ (\u001B[38;5;45mNone\u001B[0m, \u001B[38;5;34m128\u001B[0m, \u001B[38;5;34m128\u001B[0m,  │     \u001B[38;5;34m73,856\u001B[0m │ max_pooling2d[\u001B[38;5;34m0\u001B[0m]… │\n",
       "│                     │ \u001B[38;5;34m128\u001B[0m)              │            │                   │\n",
       "├─────────────────────┼───────────────────┼────────────┼───────────────────┤\n",
       "│ conv2d_3 (\u001B[38;5;33mConv2D\u001B[0m)   │ (\u001B[38;5;45mNone\u001B[0m, \u001B[38;5;34m128\u001B[0m, \u001B[38;5;34m128\u001B[0m,  │    \u001B[38;5;34m147,584\u001B[0m │ conv2d_2[\u001B[38;5;34m0\u001B[0m][\u001B[38;5;34m0\u001B[0m]    │\n",
       "│                     │ \u001B[38;5;34m128\u001B[0m)              │            │                   │\n",
       "├─────────────────────┼───────────────────┼────────────┼───────────────────┤\n",
       "│ max_pooling2d_1     │ (\u001B[38;5;45mNone\u001B[0m, \u001B[38;5;34m64\u001B[0m, \u001B[38;5;34m64\u001B[0m,    │          \u001B[38;5;34m0\u001B[0m │ conv2d_3[\u001B[38;5;34m0\u001B[0m][\u001B[38;5;34m0\u001B[0m]    │\n",
       "│ (\u001B[38;5;33mMaxPooling2D\u001B[0m)      │ \u001B[38;5;34m128\u001B[0m)              │            │                   │\n",
       "├─────────────────────┼───────────────────┼────────────┼───────────────────┤\n",
       "│ conv2d_4 (\u001B[38;5;33mConv2D\u001B[0m)   │ (\u001B[38;5;45mNone\u001B[0m, \u001B[38;5;34m64\u001B[0m, \u001B[38;5;34m64\u001B[0m,    │    \u001B[38;5;34m295,168\u001B[0m │ max_pooling2d_1[\u001B[38;5;34m…\u001B[0m │\n",
       "│                     │ \u001B[38;5;34m256\u001B[0m)              │            │                   │\n",
       "├─────────────────────┼───────────────────┼────────────┼───────────────────┤\n",
       "│ conv2d_5 (\u001B[38;5;33mConv2D\u001B[0m)   │ (\u001B[38;5;45mNone\u001B[0m, \u001B[38;5;34m64\u001B[0m, \u001B[38;5;34m64\u001B[0m,    │    \u001B[38;5;34m590,080\u001B[0m │ conv2d_4[\u001B[38;5;34m0\u001B[0m][\u001B[38;5;34m0\u001B[0m]    │\n",
       "│                     │ \u001B[38;5;34m256\u001B[0m)              │            │                   │\n",
       "├─────────────────────┼───────────────────┼────────────┼───────────────────┤\n",
       "│ max_pooling2d_2     │ (\u001B[38;5;45mNone\u001B[0m, \u001B[38;5;34m32\u001B[0m, \u001B[38;5;34m32\u001B[0m,    │          \u001B[38;5;34m0\u001B[0m │ conv2d_5[\u001B[38;5;34m0\u001B[0m][\u001B[38;5;34m0\u001B[0m]    │\n",
       "│ (\u001B[38;5;33mMaxPooling2D\u001B[0m)      │ \u001B[38;5;34m256\u001B[0m)              │            │                   │\n",
       "├─────────────────────┼───────────────────┼────────────┼───────────────────┤\n",
       "│ conv2d_6 (\u001B[38;5;33mConv2D\u001B[0m)   │ (\u001B[38;5;45mNone\u001B[0m, \u001B[38;5;34m32\u001B[0m, \u001B[38;5;34m32\u001B[0m,    │  \u001B[38;5;34m1,180,160\u001B[0m │ max_pooling2d_2[\u001B[38;5;34m…\u001B[0m │\n",
       "│                     │ \u001B[38;5;34m512\u001B[0m)              │            │                   │\n",
       "├─────────────────────┼───────────────────┼────────────┼───────────────────┤\n",
       "│ conv2d_7 (\u001B[38;5;33mConv2D\u001B[0m)   │ (\u001B[38;5;45mNone\u001B[0m, \u001B[38;5;34m32\u001B[0m, \u001B[38;5;34m32\u001B[0m,    │  \u001B[38;5;34m2,359,808\u001B[0m │ conv2d_6[\u001B[38;5;34m0\u001B[0m][\u001B[38;5;34m0\u001B[0m]    │\n",
       "│                     │ \u001B[38;5;34m512\u001B[0m)              │            │                   │\n",
       "├─────────────────────┼───────────────────┼────────────┼───────────────────┤\n",
       "│ max_pooling2d_3     │ (\u001B[38;5;45mNone\u001B[0m, \u001B[38;5;34m16\u001B[0m, \u001B[38;5;34m16\u001B[0m,    │          \u001B[38;5;34m0\u001B[0m │ conv2d_7[\u001B[38;5;34m0\u001B[0m][\u001B[38;5;34m0\u001B[0m]    │\n",
       "│ (\u001B[38;5;33mMaxPooling2D\u001B[0m)      │ \u001B[38;5;34m512\u001B[0m)              │            │                   │\n",
       "├─────────────────────┼───────────────────┼────────────┼───────────────────┤\n",
       "│ conv2d_8 (\u001B[38;5;33mConv2D\u001B[0m)   │ (\u001B[38;5;45mNone\u001B[0m, \u001B[38;5;34m16\u001B[0m, \u001B[38;5;34m16\u001B[0m,    │  \u001B[38;5;34m4,719,616\u001B[0m │ max_pooling2d_3[\u001B[38;5;34m…\u001B[0m │\n",
       "│                     │ \u001B[38;5;34m1024\u001B[0m)             │            │                   │\n",
       "├─────────────────────┼───────────────────┼────────────┼───────────────────┤\n",
       "│ conv2d_9 (\u001B[38;5;33mConv2D\u001B[0m)   │ (\u001B[38;5;45mNone\u001B[0m, \u001B[38;5;34m16\u001B[0m, \u001B[38;5;34m16\u001B[0m,    │  \u001B[38;5;34m9,438,208\u001B[0m │ conv2d_8[\u001B[38;5;34m0\u001B[0m][\u001B[38;5;34m0\u001B[0m]    │\n",
       "│                     │ \u001B[38;5;34m1024\u001B[0m)             │            │                   │\n",
       "├─────────────────────┼───────────────────┼────────────┼───────────────────┤\n",
       "│ dec_up1             │ (\u001B[38;5;45mNone\u001B[0m, \u001B[38;5;34m32\u001B[0m, \u001B[38;5;34m32\u001B[0m,    │          \u001B[38;5;34m0\u001B[0m │ conv2d_9[\u001B[38;5;34m0\u001B[0m][\u001B[38;5;34m0\u001B[0m]    │\n",
       "│ (\u001B[38;5;33mUpSampling2D\u001B[0m)      │ \u001B[38;5;34m1024\u001B[0m)             │            │                   │\n",
       "├─────────────────────┼───────────────────┼────────────┼───────────────────┤\n",
       "│ dec_concat1         │ (\u001B[38;5;45mNone\u001B[0m, \u001B[38;5;34m32\u001B[0m, \u001B[38;5;34m32\u001B[0m,    │          \u001B[38;5;34m0\u001B[0m │ dec_up1[\u001B[38;5;34m0\u001B[0m][\u001B[38;5;34m0\u001B[0m],    │\n",
       "│ (\u001B[38;5;33mConcatenate\u001B[0m)       │ \u001B[38;5;34m1536\u001B[0m)             │            │ conv2d_7[\u001B[38;5;34m0\u001B[0m][\u001B[38;5;34m0\u001B[0m]    │\n",
       "├─────────────────────┼───────────────────┼────────────┼───────────────────┤\n",
       "│ dec_dropout1        │ (\u001B[38;5;45mNone\u001B[0m, \u001B[38;5;34m32\u001B[0m, \u001B[38;5;34m32\u001B[0m,    │          \u001B[38;5;34m0\u001B[0m │ dec_concat1[\u001B[38;5;34m0\u001B[0m][\u001B[38;5;34m0\u001B[0m] │\n",
       "│ (\u001B[38;5;33mDropout\u001B[0m)           │ \u001B[38;5;34m1536\u001B[0m)             │            │                   │\n",
       "├─────────────────────┼───────────────────┼────────────┼───────────────────┤\n",
       "│ dec1_conv1 (\u001B[38;5;33mConv2D\u001B[0m) │ (\u001B[38;5;45mNone\u001B[0m, \u001B[38;5;34m32\u001B[0m, \u001B[38;5;34m32\u001B[0m,    │  \u001B[38;5;34m7,078,400\u001B[0m │ dec_dropout1[\u001B[38;5;34m0\u001B[0m][\u001B[38;5;34m…\u001B[0m │\n",
       "│                     │ \u001B[38;5;34m512\u001B[0m)              │            │                   │\n",
       "├─────────────────────┼───────────────────┼────────────┼───────────────────┤\n",
       "│ dec1_conv2 (\u001B[38;5;33mConv2D\u001B[0m) │ (\u001B[38;5;45mNone\u001B[0m, \u001B[38;5;34m32\u001B[0m, \u001B[38;5;34m32\u001B[0m,    │  \u001B[38;5;34m2,359,808\u001B[0m │ dec1_conv1[\u001B[38;5;34m0\u001B[0m][\u001B[38;5;34m0\u001B[0m]  │\n",
       "│                     │ \u001B[38;5;34m512\u001B[0m)              │            │                   │\n",
       "├─────────────────────┼───────────────────┼────────────┼───────────────────┤\n",
       "│ dec_up2             │ (\u001B[38;5;45mNone\u001B[0m, \u001B[38;5;34m64\u001B[0m, \u001B[38;5;34m64\u001B[0m,    │          \u001B[38;5;34m0\u001B[0m │ dec1_conv2[\u001B[38;5;34m0\u001B[0m][\u001B[38;5;34m0\u001B[0m]  │\n",
       "│ (\u001B[38;5;33mUpSampling2D\u001B[0m)      │ \u001B[38;5;34m512\u001B[0m)              │            │                   │\n",
       "├─────────────────────┼───────────────────┼────────────┼───────────────────┤\n",
       "│ dec_concat2         │ (\u001B[38;5;45mNone\u001B[0m, \u001B[38;5;34m64\u001B[0m, \u001B[38;5;34m64\u001B[0m,    │          \u001B[38;5;34m0\u001B[0m │ dec_up2[\u001B[38;5;34m0\u001B[0m][\u001B[38;5;34m0\u001B[0m],    │\n",
       "│ (\u001B[38;5;33mConcatenate\u001B[0m)       │ \u001B[38;5;34m768\u001B[0m)              │            │ conv2d_5[\u001B[38;5;34m0\u001B[0m][\u001B[38;5;34m0\u001B[0m]    │\n",
       "├─────────────────────┼───────────────────┼────────────┼───────────────────┤\n",
       "│ dec_dropout2        │ (\u001B[38;5;45mNone\u001B[0m, \u001B[38;5;34m64\u001B[0m, \u001B[38;5;34m64\u001B[0m,    │          \u001B[38;5;34m0\u001B[0m │ dec_concat2[\u001B[38;5;34m0\u001B[0m][\u001B[38;5;34m0\u001B[0m] │\n",
       "│ (\u001B[38;5;33mDropout\u001B[0m)           │ \u001B[38;5;34m768\u001B[0m)              │            │                   │\n",
       "├─────────────────────┼───────────────────┼────────────┼───────────────────┤\n",
       "│ dec2_conv1 (\u001B[38;5;33mConv2D\u001B[0m) │ (\u001B[38;5;45mNone\u001B[0m, \u001B[38;5;34m64\u001B[0m, \u001B[38;5;34m64\u001B[0m,    │  \u001B[38;5;34m1,769,728\u001B[0m │ dec_dropout2[\u001B[38;5;34m0\u001B[0m][\u001B[38;5;34m…\u001B[0m │\n",
       "│                     │ \u001B[38;5;34m256\u001B[0m)              │            │                   │\n",
       "├─────────────────────┼───────────────────┼────────────┼───────────────────┤\n",
       "│ dec2_conv2 (\u001B[38;5;33mConv2D\u001B[0m) │ (\u001B[38;5;45mNone\u001B[0m, \u001B[38;5;34m64\u001B[0m, \u001B[38;5;34m64\u001B[0m,    │    \u001B[38;5;34m590,080\u001B[0m │ dec2_conv1[\u001B[38;5;34m0\u001B[0m][\u001B[38;5;34m0\u001B[0m]  │\n",
       "│                     │ \u001B[38;5;34m256\u001B[0m)              │            │                   │\n",
       "├─────────────────────┼───────────────────┼────────────┼───────────────────┤\n",
       "│ dec_up3             │ (\u001B[38;5;45mNone\u001B[0m, \u001B[38;5;34m128\u001B[0m, \u001B[38;5;34m128\u001B[0m,  │          \u001B[38;5;34m0\u001B[0m │ dec2_conv2[\u001B[38;5;34m0\u001B[0m][\u001B[38;5;34m0\u001B[0m]  │\n",
       "│ (\u001B[38;5;33mUpSampling2D\u001B[0m)      │ \u001B[38;5;34m256\u001B[0m)              │            │                   │\n",
       "├─────────────────────┼───────────────────┼────────────┼───────────────────┤\n",
       "│ dec_concat3         │ (\u001B[38;5;45mNone\u001B[0m, \u001B[38;5;34m128\u001B[0m, \u001B[38;5;34m128\u001B[0m,  │          \u001B[38;5;34m0\u001B[0m │ dec_up3[\u001B[38;5;34m0\u001B[0m][\u001B[38;5;34m0\u001B[0m],    │\n",
       "│ (\u001B[38;5;33mConcatenate\u001B[0m)       │ \u001B[38;5;34m384\u001B[0m)              │            │ conv2d_3[\u001B[38;5;34m0\u001B[0m][\u001B[38;5;34m0\u001B[0m]    │\n",
       "├─────────────────────┼───────────────────┼────────────┼───────────────────┤\n",
       "│ dec_dropout3        │ (\u001B[38;5;45mNone\u001B[0m, \u001B[38;5;34m128\u001B[0m, \u001B[38;5;34m128\u001B[0m,  │          \u001B[38;5;34m0\u001B[0m │ dec_concat3[\u001B[38;5;34m0\u001B[0m][\u001B[38;5;34m0\u001B[0m] │\n",
       "│ (\u001B[38;5;33mDropout\u001B[0m)           │ \u001B[38;5;34m384\u001B[0m)              │            │                   │\n",
       "├─────────────────────┼───────────────────┼────────────┼───────────────────┤\n",
       "│ dec3_conv1 (\u001B[38;5;33mConv2D\u001B[0m) │ (\u001B[38;5;45mNone\u001B[0m, \u001B[38;5;34m128\u001B[0m, \u001B[38;5;34m128\u001B[0m,  │    \u001B[38;5;34m442,496\u001B[0m │ dec_dropout3[\u001B[38;5;34m0\u001B[0m][\u001B[38;5;34m…\u001B[0m │\n",
       "│                     │ \u001B[38;5;34m128\u001B[0m)              │            │                   │\n",
       "├─────────────────────┼───────────────────┼────────────┼───────────────────┤\n",
       "│ dec3_conv2 (\u001B[38;5;33mConv2D\u001B[0m) │ (\u001B[38;5;45mNone\u001B[0m, \u001B[38;5;34m128\u001B[0m, \u001B[38;5;34m128\u001B[0m,  │    \u001B[38;5;34m147,584\u001B[0m │ dec3_conv1[\u001B[38;5;34m0\u001B[0m][\u001B[38;5;34m0\u001B[0m]  │\n",
       "│                     │ \u001B[38;5;34m128\u001B[0m)              │            │                   │\n",
       "├─────────────────────┼───────────────────┼────────────┼───────────────────┤\n",
       "│ dec_up4             │ (\u001B[38;5;45mNone\u001B[0m, \u001B[38;5;34m256\u001B[0m, \u001B[38;5;34m256\u001B[0m,  │          \u001B[38;5;34m0\u001B[0m │ dec3_conv2[\u001B[38;5;34m0\u001B[0m][\u001B[38;5;34m0\u001B[0m]  │\n",
       "│ (\u001B[38;5;33mUpSampling2D\u001B[0m)      │ \u001B[38;5;34m128\u001B[0m)              │            │                   │\n",
       "├─────────────────────┼───────────────────┼────────────┼───────────────────┤\n",
       "│ dec_concat4         │ (\u001B[38;5;45mNone\u001B[0m, \u001B[38;5;34m256\u001B[0m, \u001B[38;5;34m256\u001B[0m,  │          \u001B[38;5;34m0\u001B[0m │ dec_up4[\u001B[38;5;34m0\u001B[0m][\u001B[38;5;34m0\u001B[0m],    │\n",
       "│ (\u001B[38;5;33mConcatenate\u001B[0m)       │ \u001B[38;5;34m192\u001B[0m)              │            │ conv2d_1[\u001B[38;5;34m0\u001B[0m][\u001B[38;5;34m0\u001B[0m]    │\n",
       "├─────────────────────┼───────────────────┼────────────┼───────────────────┤\n",
       "│ dec_dropout4        │ (\u001B[38;5;45mNone\u001B[0m, \u001B[38;5;34m256\u001B[0m, \u001B[38;5;34m256\u001B[0m,  │          \u001B[38;5;34m0\u001B[0m │ dec_concat4[\u001B[38;5;34m0\u001B[0m][\u001B[38;5;34m0\u001B[0m] │\n",
       "│ (\u001B[38;5;33mDropout\u001B[0m)           │ \u001B[38;5;34m192\u001B[0m)              │            │                   │\n",
       "├─────────────────────┼───────────────────┼────────────┼───────────────────┤\n",
       "│ dec4_conv1 (\u001B[38;5;33mConv2D\u001B[0m) │ (\u001B[38;5;45mNone\u001B[0m, \u001B[38;5;34m256\u001B[0m, \u001B[38;5;34m256\u001B[0m,  │    \u001B[38;5;34m110,656\u001B[0m │ dec_dropout4[\u001B[38;5;34m0\u001B[0m][\u001B[38;5;34m…\u001B[0m │\n",
       "│                     │ \u001B[38;5;34m64\u001B[0m)               │            │                   │\n",
       "├─────────────────────┼───────────────────┼────────────┼───────────────────┤\n",
       "│ dec4_conv2 (\u001B[38;5;33mConv2D\u001B[0m) │ (\u001B[38;5;45mNone\u001B[0m, \u001B[38;5;34m256\u001B[0m, \u001B[38;5;34m256\u001B[0m,  │     \u001B[38;5;34m36,928\u001B[0m │ dec4_conv1[\u001B[38;5;34m0\u001B[0m][\u001B[38;5;34m0\u001B[0m]  │\n",
       "│                     │ \u001B[38;5;34m64\u001B[0m)               │            │                   │\n",
       "├─────────────────────┼───────────────────┼────────────┼───────────────────┤\n",
       "│ output_layer        │ (\u001B[38;5;45mNone\u001B[0m, \u001B[38;5;34m256\u001B[0m, \u001B[38;5;34m256\u001B[0m,  │         \u001B[38;5;34m65\u001B[0m │ dec4_conv2[\u001B[38;5;34m0\u001B[0m][\u001B[38;5;34m0\u001B[0m]  │\n",
       "│ (\u001B[38;5;33mConv2D\u001B[0m)            │ \u001B[38;5;34m1\u001B[0m)                │            │                   │\n",
       "└─────────────────────┴───────────────────┴────────────┴───────────────────┘\n"
      ],
      "text/html": [
       "<pre style=\"white-space:pre;overflow-x:auto;line-height:normal;font-family:Menlo,'DejaVu Sans Mono',consolas,'Courier New',monospace\">┏━━━━━━━━━━━━━━━━━━━━━┳━━━━━━━━━━━━━━━━━━━┳━━━━━━━━━━━━┳━━━━━━━━━━━━━━━━━━━┓\n",
       "┃<span style=\"font-weight: bold\"> Layer (type)        </span>┃<span style=\"font-weight: bold\"> Output Shape      </span>┃<span style=\"font-weight: bold\">    Param # </span>┃<span style=\"font-weight: bold\"> Connected to      </span>┃\n",
       "┡━━━━━━━━━━━━━━━━━━━━━╇━━━━━━━━━━━━━━━━━━━╇━━━━━━━━━━━━╇━━━━━━━━━━━━━━━━━━━┩\n",
       "│ input_layer         │ (<span style=\"color: #00d7ff; text-decoration-color: #00d7ff\">None</span>, <span style=\"color: #00af00; text-decoration-color: #00af00\">256</span>, <span style=\"color: #00af00; text-decoration-color: #00af00\">256</span>,  │          <span style=\"color: #00af00; text-decoration-color: #00af00\">0</span> │ -                 │\n",
       "│ (<span style=\"color: #0087ff; text-decoration-color: #0087ff\">InputLayer</span>)        │ <span style=\"color: #00af00; text-decoration-color: #00af00\">1</span>)                │            │                   │\n",
       "├─────────────────────┼───────────────────┼────────────┼───────────────────┤\n",
       "│ input_batch_norm    │ (<span style=\"color: #00d7ff; text-decoration-color: #00d7ff\">None</span>, <span style=\"color: #00af00; text-decoration-color: #00af00\">256</span>, <span style=\"color: #00af00; text-decoration-color: #00af00\">256</span>,  │          <span style=\"color: #00af00; text-decoration-color: #00af00\">4</span> │ input_layer[<span style=\"color: #00af00; text-decoration-color: #00af00\">0</span>][<span style=\"color: #00af00; text-decoration-color: #00af00\">0</span>] │\n",
       "│ (<span style=\"color: #0087ff; text-decoration-color: #0087ff\">BatchNormalizatio…</span> │ <span style=\"color: #00af00; text-decoration-color: #00af00\">1</span>)                │            │                   │\n",
       "├─────────────────────┼───────────────────┼────────────┼───────────────────┤\n",
       "│ conv2d (<span style=\"color: #0087ff; text-decoration-color: #0087ff\">Conv2D</span>)     │ (<span style=\"color: #00d7ff; text-decoration-color: #00d7ff\">None</span>, <span style=\"color: #00af00; text-decoration-color: #00af00\">256</span>, <span style=\"color: #00af00; text-decoration-color: #00af00\">256</span>,  │        <span style=\"color: #00af00; text-decoration-color: #00af00\">640</span> │ input_batch_norm… │\n",
       "│                     │ <span style=\"color: #00af00; text-decoration-color: #00af00\">64</span>)               │            │                   │\n",
       "├─────────────────────┼───────────────────┼────────────┼───────────────────┤\n",
       "│ conv2d_1 (<span style=\"color: #0087ff; text-decoration-color: #0087ff\">Conv2D</span>)   │ (<span style=\"color: #00d7ff; text-decoration-color: #00d7ff\">None</span>, <span style=\"color: #00af00; text-decoration-color: #00af00\">256</span>, <span style=\"color: #00af00; text-decoration-color: #00af00\">256</span>,  │     <span style=\"color: #00af00; text-decoration-color: #00af00\">36,928</span> │ conv2d[<span style=\"color: #00af00; text-decoration-color: #00af00\">0</span>][<span style=\"color: #00af00; text-decoration-color: #00af00\">0</span>]      │\n",
       "│                     │ <span style=\"color: #00af00; text-decoration-color: #00af00\">64</span>)               │            │                   │\n",
       "├─────────────────────┼───────────────────┼────────────┼───────────────────┤\n",
       "│ max_pooling2d       │ (<span style=\"color: #00d7ff; text-decoration-color: #00d7ff\">None</span>, <span style=\"color: #00af00; text-decoration-color: #00af00\">128</span>, <span style=\"color: #00af00; text-decoration-color: #00af00\">128</span>,  │          <span style=\"color: #00af00; text-decoration-color: #00af00\">0</span> │ conv2d_1[<span style=\"color: #00af00; text-decoration-color: #00af00\">0</span>][<span style=\"color: #00af00; text-decoration-color: #00af00\">0</span>]    │\n",
       "│ (<span style=\"color: #0087ff; text-decoration-color: #0087ff\">MaxPooling2D</span>)      │ <span style=\"color: #00af00; text-decoration-color: #00af00\">64</span>)               │            │                   │\n",
       "├─────────────────────┼───────────────────┼────────────┼───────────────────┤\n",
       "│ conv2d_2 (<span style=\"color: #0087ff; text-decoration-color: #0087ff\">Conv2D</span>)   │ (<span style=\"color: #00d7ff; text-decoration-color: #00d7ff\">None</span>, <span style=\"color: #00af00; text-decoration-color: #00af00\">128</span>, <span style=\"color: #00af00; text-decoration-color: #00af00\">128</span>,  │     <span style=\"color: #00af00; text-decoration-color: #00af00\">73,856</span> │ max_pooling2d[<span style=\"color: #00af00; text-decoration-color: #00af00\">0</span>]… │\n",
       "│                     │ <span style=\"color: #00af00; text-decoration-color: #00af00\">128</span>)              │            │                   │\n",
       "├─────────────────────┼───────────────────┼────────────┼───────────────────┤\n",
       "│ conv2d_3 (<span style=\"color: #0087ff; text-decoration-color: #0087ff\">Conv2D</span>)   │ (<span style=\"color: #00d7ff; text-decoration-color: #00d7ff\">None</span>, <span style=\"color: #00af00; text-decoration-color: #00af00\">128</span>, <span style=\"color: #00af00; text-decoration-color: #00af00\">128</span>,  │    <span style=\"color: #00af00; text-decoration-color: #00af00\">147,584</span> │ conv2d_2[<span style=\"color: #00af00; text-decoration-color: #00af00\">0</span>][<span style=\"color: #00af00; text-decoration-color: #00af00\">0</span>]    │\n",
       "│                     │ <span style=\"color: #00af00; text-decoration-color: #00af00\">128</span>)              │            │                   │\n",
       "├─────────────────────┼───────────────────┼────────────┼───────────────────┤\n",
       "│ max_pooling2d_1     │ (<span style=\"color: #00d7ff; text-decoration-color: #00d7ff\">None</span>, <span style=\"color: #00af00; text-decoration-color: #00af00\">64</span>, <span style=\"color: #00af00; text-decoration-color: #00af00\">64</span>,    │          <span style=\"color: #00af00; text-decoration-color: #00af00\">0</span> │ conv2d_3[<span style=\"color: #00af00; text-decoration-color: #00af00\">0</span>][<span style=\"color: #00af00; text-decoration-color: #00af00\">0</span>]    │\n",
       "│ (<span style=\"color: #0087ff; text-decoration-color: #0087ff\">MaxPooling2D</span>)      │ <span style=\"color: #00af00; text-decoration-color: #00af00\">128</span>)              │            │                   │\n",
       "├─────────────────────┼───────────────────┼────────────┼───────────────────┤\n",
       "│ conv2d_4 (<span style=\"color: #0087ff; text-decoration-color: #0087ff\">Conv2D</span>)   │ (<span style=\"color: #00d7ff; text-decoration-color: #00d7ff\">None</span>, <span style=\"color: #00af00; text-decoration-color: #00af00\">64</span>, <span style=\"color: #00af00; text-decoration-color: #00af00\">64</span>,    │    <span style=\"color: #00af00; text-decoration-color: #00af00\">295,168</span> │ max_pooling2d_1[<span style=\"color: #00af00; text-decoration-color: #00af00\">…</span> │\n",
       "│                     │ <span style=\"color: #00af00; text-decoration-color: #00af00\">256</span>)              │            │                   │\n",
       "├─────────────────────┼───────────────────┼────────────┼───────────────────┤\n",
       "│ conv2d_5 (<span style=\"color: #0087ff; text-decoration-color: #0087ff\">Conv2D</span>)   │ (<span style=\"color: #00d7ff; text-decoration-color: #00d7ff\">None</span>, <span style=\"color: #00af00; text-decoration-color: #00af00\">64</span>, <span style=\"color: #00af00; text-decoration-color: #00af00\">64</span>,    │    <span style=\"color: #00af00; text-decoration-color: #00af00\">590,080</span> │ conv2d_4[<span style=\"color: #00af00; text-decoration-color: #00af00\">0</span>][<span style=\"color: #00af00; text-decoration-color: #00af00\">0</span>]    │\n",
       "│                     │ <span style=\"color: #00af00; text-decoration-color: #00af00\">256</span>)              │            │                   │\n",
       "├─────────────────────┼───────────────────┼────────────┼───────────────────┤\n",
       "│ max_pooling2d_2     │ (<span style=\"color: #00d7ff; text-decoration-color: #00d7ff\">None</span>, <span style=\"color: #00af00; text-decoration-color: #00af00\">32</span>, <span style=\"color: #00af00; text-decoration-color: #00af00\">32</span>,    │          <span style=\"color: #00af00; text-decoration-color: #00af00\">0</span> │ conv2d_5[<span style=\"color: #00af00; text-decoration-color: #00af00\">0</span>][<span style=\"color: #00af00; text-decoration-color: #00af00\">0</span>]    │\n",
       "│ (<span style=\"color: #0087ff; text-decoration-color: #0087ff\">MaxPooling2D</span>)      │ <span style=\"color: #00af00; text-decoration-color: #00af00\">256</span>)              │            │                   │\n",
       "├─────────────────────┼───────────────────┼────────────┼───────────────────┤\n",
       "│ conv2d_6 (<span style=\"color: #0087ff; text-decoration-color: #0087ff\">Conv2D</span>)   │ (<span style=\"color: #00d7ff; text-decoration-color: #00d7ff\">None</span>, <span style=\"color: #00af00; text-decoration-color: #00af00\">32</span>, <span style=\"color: #00af00; text-decoration-color: #00af00\">32</span>,    │  <span style=\"color: #00af00; text-decoration-color: #00af00\">1,180,160</span> │ max_pooling2d_2[<span style=\"color: #00af00; text-decoration-color: #00af00\">…</span> │\n",
       "│                     │ <span style=\"color: #00af00; text-decoration-color: #00af00\">512</span>)              │            │                   │\n",
       "├─────────────────────┼───────────────────┼────────────┼───────────────────┤\n",
       "│ conv2d_7 (<span style=\"color: #0087ff; text-decoration-color: #0087ff\">Conv2D</span>)   │ (<span style=\"color: #00d7ff; text-decoration-color: #00d7ff\">None</span>, <span style=\"color: #00af00; text-decoration-color: #00af00\">32</span>, <span style=\"color: #00af00; text-decoration-color: #00af00\">32</span>,    │  <span style=\"color: #00af00; text-decoration-color: #00af00\">2,359,808</span> │ conv2d_6[<span style=\"color: #00af00; text-decoration-color: #00af00\">0</span>][<span style=\"color: #00af00; text-decoration-color: #00af00\">0</span>]    │\n",
       "│                     │ <span style=\"color: #00af00; text-decoration-color: #00af00\">512</span>)              │            │                   │\n",
       "├─────────────────────┼───────────────────┼────────────┼───────────────────┤\n",
       "│ max_pooling2d_3     │ (<span style=\"color: #00d7ff; text-decoration-color: #00d7ff\">None</span>, <span style=\"color: #00af00; text-decoration-color: #00af00\">16</span>, <span style=\"color: #00af00; text-decoration-color: #00af00\">16</span>,    │          <span style=\"color: #00af00; text-decoration-color: #00af00\">0</span> │ conv2d_7[<span style=\"color: #00af00; text-decoration-color: #00af00\">0</span>][<span style=\"color: #00af00; text-decoration-color: #00af00\">0</span>]    │\n",
       "│ (<span style=\"color: #0087ff; text-decoration-color: #0087ff\">MaxPooling2D</span>)      │ <span style=\"color: #00af00; text-decoration-color: #00af00\">512</span>)              │            │                   │\n",
       "├─────────────────────┼───────────────────┼────────────┼───────────────────┤\n",
       "│ conv2d_8 (<span style=\"color: #0087ff; text-decoration-color: #0087ff\">Conv2D</span>)   │ (<span style=\"color: #00d7ff; text-decoration-color: #00d7ff\">None</span>, <span style=\"color: #00af00; text-decoration-color: #00af00\">16</span>, <span style=\"color: #00af00; text-decoration-color: #00af00\">16</span>,    │  <span style=\"color: #00af00; text-decoration-color: #00af00\">4,719,616</span> │ max_pooling2d_3[<span style=\"color: #00af00; text-decoration-color: #00af00\">…</span> │\n",
       "│                     │ <span style=\"color: #00af00; text-decoration-color: #00af00\">1024</span>)             │            │                   │\n",
       "├─────────────────────┼───────────────────┼────────────┼───────────────────┤\n",
       "│ conv2d_9 (<span style=\"color: #0087ff; text-decoration-color: #0087ff\">Conv2D</span>)   │ (<span style=\"color: #00d7ff; text-decoration-color: #00d7ff\">None</span>, <span style=\"color: #00af00; text-decoration-color: #00af00\">16</span>, <span style=\"color: #00af00; text-decoration-color: #00af00\">16</span>,    │  <span style=\"color: #00af00; text-decoration-color: #00af00\">9,438,208</span> │ conv2d_8[<span style=\"color: #00af00; text-decoration-color: #00af00\">0</span>][<span style=\"color: #00af00; text-decoration-color: #00af00\">0</span>]    │\n",
       "│                     │ <span style=\"color: #00af00; text-decoration-color: #00af00\">1024</span>)             │            │                   │\n",
       "├─────────────────────┼───────────────────┼────────────┼───────────────────┤\n",
       "│ dec_up1             │ (<span style=\"color: #00d7ff; text-decoration-color: #00d7ff\">None</span>, <span style=\"color: #00af00; text-decoration-color: #00af00\">32</span>, <span style=\"color: #00af00; text-decoration-color: #00af00\">32</span>,    │          <span style=\"color: #00af00; text-decoration-color: #00af00\">0</span> │ conv2d_9[<span style=\"color: #00af00; text-decoration-color: #00af00\">0</span>][<span style=\"color: #00af00; text-decoration-color: #00af00\">0</span>]    │\n",
       "│ (<span style=\"color: #0087ff; text-decoration-color: #0087ff\">UpSampling2D</span>)      │ <span style=\"color: #00af00; text-decoration-color: #00af00\">1024</span>)             │            │                   │\n",
       "├─────────────────────┼───────────────────┼────────────┼───────────────────┤\n",
       "│ dec_concat1         │ (<span style=\"color: #00d7ff; text-decoration-color: #00d7ff\">None</span>, <span style=\"color: #00af00; text-decoration-color: #00af00\">32</span>, <span style=\"color: #00af00; text-decoration-color: #00af00\">32</span>,    │          <span style=\"color: #00af00; text-decoration-color: #00af00\">0</span> │ dec_up1[<span style=\"color: #00af00; text-decoration-color: #00af00\">0</span>][<span style=\"color: #00af00; text-decoration-color: #00af00\">0</span>],    │\n",
       "│ (<span style=\"color: #0087ff; text-decoration-color: #0087ff\">Concatenate</span>)       │ <span style=\"color: #00af00; text-decoration-color: #00af00\">1536</span>)             │            │ conv2d_7[<span style=\"color: #00af00; text-decoration-color: #00af00\">0</span>][<span style=\"color: #00af00; text-decoration-color: #00af00\">0</span>]    │\n",
       "├─────────────────────┼───────────────────┼────────────┼───────────────────┤\n",
       "│ dec_dropout1        │ (<span style=\"color: #00d7ff; text-decoration-color: #00d7ff\">None</span>, <span style=\"color: #00af00; text-decoration-color: #00af00\">32</span>, <span style=\"color: #00af00; text-decoration-color: #00af00\">32</span>,    │          <span style=\"color: #00af00; text-decoration-color: #00af00\">0</span> │ dec_concat1[<span style=\"color: #00af00; text-decoration-color: #00af00\">0</span>][<span style=\"color: #00af00; text-decoration-color: #00af00\">0</span>] │\n",
       "│ (<span style=\"color: #0087ff; text-decoration-color: #0087ff\">Dropout</span>)           │ <span style=\"color: #00af00; text-decoration-color: #00af00\">1536</span>)             │            │                   │\n",
       "├─────────────────────┼───────────────────┼────────────┼───────────────────┤\n",
       "│ dec1_conv1 (<span style=\"color: #0087ff; text-decoration-color: #0087ff\">Conv2D</span>) │ (<span style=\"color: #00d7ff; text-decoration-color: #00d7ff\">None</span>, <span style=\"color: #00af00; text-decoration-color: #00af00\">32</span>, <span style=\"color: #00af00; text-decoration-color: #00af00\">32</span>,    │  <span style=\"color: #00af00; text-decoration-color: #00af00\">7,078,400</span> │ dec_dropout1[<span style=\"color: #00af00; text-decoration-color: #00af00\">0</span>][<span style=\"color: #00af00; text-decoration-color: #00af00\">…</span> │\n",
       "│                     │ <span style=\"color: #00af00; text-decoration-color: #00af00\">512</span>)              │            │                   │\n",
       "├─────────────────────┼───────────────────┼────────────┼───────────────────┤\n",
       "│ dec1_conv2 (<span style=\"color: #0087ff; text-decoration-color: #0087ff\">Conv2D</span>) │ (<span style=\"color: #00d7ff; text-decoration-color: #00d7ff\">None</span>, <span style=\"color: #00af00; text-decoration-color: #00af00\">32</span>, <span style=\"color: #00af00; text-decoration-color: #00af00\">32</span>,    │  <span style=\"color: #00af00; text-decoration-color: #00af00\">2,359,808</span> │ dec1_conv1[<span style=\"color: #00af00; text-decoration-color: #00af00\">0</span>][<span style=\"color: #00af00; text-decoration-color: #00af00\">0</span>]  │\n",
       "│                     │ <span style=\"color: #00af00; text-decoration-color: #00af00\">512</span>)              │            │                   │\n",
       "├─────────────────────┼───────────────────┼────────────┼───────────────────┤\n",
       "│ dec_up2             │ (<span style=\"color: #00d7ff; text-decoration-color: #00d7ff\">None</span>, <span style=\"color: #00af00; text-decoration-color: #00af00\">64</span>, <span style=\"color: #00af00; text-decoration-color: #00af00\">64</span>,    │          <span style=\"color: #00af00; text-decoration-color: #00af00\">0</span> │ dec1_conv2[<span style=\"color: #00af00; text-decoration-color: #00af00\">0</span>][<span style=\"color: #00af00; text-decoration-color: #00af00\">0</span>]  │\n",
       "│ (<span style=\"color: #0087ff; text-decoration-color: #0087ff\">UpSampling2D</span>)      │ <span style=\"color: #00af00; text-decoration-color: #00af00\">512</span>)              │            │                   │\n",
       "├─────────────────────┼───────────────────┼────────────┼───────────────────┤\n",
       "│ dec_concat2         │ (<span style=\"color: #00d7ff; text-decoration-color: #00d7ff\">None</span>, <span style=\"color: #00af00; text-decoration-color: #00af00\">64</span>, <span style=\"color: #00af00; text-decoration-color: #00af00\">64</span>,    │          <span style=\"color: #00af00; text-decoration-color: #00af00\">0</span> │ dec_up2[<span style=\"color: #00af00; text-decoration-color: #00af00\">0</span>][<span style=\"color: #00af00; text-decoration-color: #00af00\">0</span>],    │\n",
       "│ (<span style=\"color: #0087ff; text-decoration-color: #0087ff\">Concatenate</span>)       │ <span style=\"color: #00af00; text-decoration-color: #00af00\">768</span>)              │            │ conv2d_5[<span style=\"color: #00af00; text-decoration-color: #00af00\">0</span>][<span style=\"color: #00af00; text-decoration-color: #00af00\">0</span>]    │\n",
       "├─────────────────────┼───────────────────┼────────────┼───────────────────┤\n",
       "│ dec_dropout2        │ (<span style=\"color: #00d7ff; text-decoration-color: #00d7ff\">None</span>, <span style=\"color: #00af00; text-decoration-color: #00af00\">64</span>, <span style=\"color: #00af00; text-decoration-color: #00af00\">64</span>,    │          <span style=\"color: #00af00; text-decoration-color: #00af00\">0</span> │ dec_concat2[<span style=\"color: #00af00; text-decoration-color: #00af00\">0</span>][<span style=\"color: #00af00; text-decoration-color: #00af00\">0</span>] │\n",
       "│ (<span style=\"color: #0087ff; text-decoration-color: #0087ff\">Dropout</span>)           │ <span style=\"color: #00af00; text-decoration-color: #00af00\">768</span>)              │            │                   │\n",
       "├─────────────────────┼───────────────────┼────────────┼───────────────────┤\n",
       "│ dec2_conv1 (<span style=\"color: #0087ff; text-decoration-color: #0087ff\">Conv2D</span>) │ (<span style=\"color: #00d7ff; text-decoration-color: #00d7ff\">None</span>, <span style=\"color: #00af00; text-decoration-color: #00af00\">64</span>, <span style=\"color: #00af00; text-decoration-color: #00af00\">64</span>,    │  <span style=\"color: #00af00; text-decoration-color: #00af00\">1,769,728</span> │ dec_dropout2[<span style=\"color: #00af00; text-decoration-color: #00af00\">0</span>][<span style=\"color: #00af00; text-decoration-color: #00af00\">…</span> │\n",
       "│                     │ <span style=\"color: #00af00; text-decoration-color: #00af00\">256</span>)              │            │                   │\n",
       "├─────────────────────┼───────────────────┼────────────┼───────────────────┤\n",
       "│ dec2_conv2 (<span style=\"color: #0087ff; text-decoration-color: #0087ff\">Conv2D</span>) │ (<span style=\"color: #00d7ff; text-decoration-color: #00d7ff\">None</span>, <span style=\"color: #00af00; text-decoration-color: #00af00\">64</span>, <span style=\"color: #00af00; text-decoration-color: #00af00\">64</span>,    │    <span style=\"color: #00af00; text-decoration-color: #00af00\">590,080</span> │ dec2_conv1[<span style=\"color: #00af00; text-decoration-color: #00af00\">0</span>][<span style=\"color: #00af00; text-decoration-color: #00af00\">0</span>]  │\n",
       "│                     │ <span style=\"color: #00af00; text-decoration-color: #00af00\">256</span>)              │            │                   │\n",
       "├─────────────────────┼───────────────────┼────────────┼───────────────────┤\n",
       "│ dec_up3             │ (<span style=\"color: #00d7ff; text-decoration-color: #00d7ff\">None</span>, <span style=\"color: #00af00; text-decoration-color: #00af00\">128</span>, <span style=\"color: #00af00; text-decoration-color: #00af00\">128</span>,  │          <span style=\"color: #00af00; text-decoration-color: #00af00\">0</span> │ dec2_conv2[<span style=\"color: #00af00; text-decoration-color: #00af00\">0</span>][<span style=\"color: #00af00; text-decoration-color: #00af00\">0</span>]  │\n",
       "│ (<span style=\"color: #0087ff; text-decoration-color: #0087ff\">UpSampling2D</span>)      │ <span style=\"color: #00af00; text-decoration-color: #00af00\">256</span>)              │            │                   │\n",
       "├─────────────────────┼───────────────────┼────────────┼───────────────────┤\n",
       "│ dec_concat3         │ (<span style=\"color: #00d7ff; text-decoration-color: #00d7ff\">None</span>, <span style=\"color: #00af00; text-decoration-color: #00af00\">128</span>, <span style=\"color: #00af00; text-decoration-color: #00af00\">128</span>,  │          <span style=\"color: #00af00; text-decoration-color: #00af00\">0</span> │ dec_up3[<span style=\"color: #00af00; text-decoration-color: #00af00\">0</span>][<span style=\"color: #00af00; text-decoration-color: #00af00\">0</span>],    │\n",
       "│ (<span style=\"color: #0087ff; text-decoration-color: #0087ff\">Concatenate</span>)       │ <span style=\"color: #00af00; text-decoration-color: #00af00\">384</span>)              │            │ conv2d_3[<span style=\"color: #00af00; text-decoration-color: #00af00\">0</span>][<span style=\"color: #00af00; text-decoration-color: #00af00\">0</span>]    │\n",
       "├─────────────────────┼───────────────────┼────────────┼───────────────────┤\n",
       "│ dec_dropout3        │ (<span style=\"color: #00d7ff; text-decoration-color: #00d7ff\">None</span>, <span style=\"color: #00af00; text-decoration-color: #00af00\">128</span>, <span style=\"color: #00af00; text-decoration-color: #00af00\">128</span>,  │          <span style=\"color: #00af00; text-decoration-color: #00af00\">0</span> │ dec_concat3[<span style=\"color: #00af00; text-decoration-color: #00af00\">0</span>][<span style=\"color: #00af00; text-decoration-color: #00af00\">0</span>] │\n",
       "│ (<span style=\"color: #0087ff; text-decoration-color: #0087ff\">Dropout</span>)           │ <span style=\"color: #00af00; text-decoration-color: #00af00\">384</span>)              │            │                   │\n",
       "├─────────────────────┼───────────────────┼────────────┼───────────────────┤\n",
       "│ dec3_conv1 (<span style=\"color: #0087ff; text-decoration-color: #0087ff\">Conv2D</span>) │ (<span style=\"color: #00d7ff; text-decoration-color: #00d7ff\">None</span>, <span style=\"color: #00af00; text-decoration-color: #00af00\">128</span>, <span style=\"color: #00af00; text-decoration-color: #00af00\">128</span>,  │    <span style=\"color: #00af00; text-decoration-color: #00af00\">442,496</span> │ dec_dropout3[<span style=\"color: #00af00; text-decoration-color: #00af00\">0</span>][<span style=\"color: #00af00; text-decoration-color: #00af00\">…</span> │\n",
       "│                     │ <span style=\"color: #00af00; text-decoration-color: #00af00\">128</span>)              │            │                   │\n",
       "├─────────────────────┼───────────────────┼────────────┼───────────────────┤\n",
       "│ dec3_conv2 (<span style=\"color: #0087ff; text-decoration-color: #0087ff\">Conv2D</span>) │ (<span style=\"color: #00d7ff; text-decoration-color: #00d7ff\">None</span>, <span style=\"color: #00af00; text-decoration-color: #00af00\">128</span>, <span style=\"color: #00af00; text-decoration-color: #00af00\">128</span>,  │    <span style=\"color: #00af00; text-decoration-color: #00af00\">147,584</span> │ dec3_conv1[<span style=\"color: #00af00; text-decoration-color: #00af00\">0</span>][<span style=\"color: #00af00; text-decoration-color: #00af00\">0</span>]  │\n",
       "│                     │ <span style=\"color: #00af00; text-decoration-color: #00af00\">128</span>)              │            │                   │\n",
       "├─────────────────────┼───────────────────┼────────────┼───────────────────┤\n",
       "│ dec_up4             │ (<span style=\"color: #00d7ff; text-decoration-color: #00d7ff\">None</span>, <span style=\"color: #00af00; text-decoration-color: #00af00\">256</span>, <span style=\"color: #00af00; text-decoration-color: #00af00\">256</span>,  │          <span style=\"color: #00af00; text-decoration-color: #00af00\">0</span> │ dec3_conv2[<span style=\"color: #00af00; text-decoration-color: #00af00\">0</span>][<span style=\"color: #00af00; text-decoration-color: #00af00\">0</span>]  │\n",
       "│ (<span style=\"color: #0087ff; text-decoration-color: #0087ff\">UpSampling2D</span>)      │ <span style=\"color: #00af00; text-decoration-color: #00af00\">128</span>)              │            │                   │\n",
       "├─────────────────────┼───────────────────┼────────────┼───────────────────┤\n",
       "│ dec_concat4         │ (<span style=\"color: #00d7ff; text-decoration-color: #00d7ff\">None</span>, <span style=\"color: #00af00; text-decoration-color: #00af00\">256</span>, <span style=\"color: #00af00; text-decoration-color: #00af00\">256</span>,  │          <span style=\"color: #00af00; text-decoration-color: #00af00\">0</span> │ dec_up4[<span style=\"color: #00af00; text-decoration-color: #00af00\">0</span>][<span style=\"color: #00af00; text-decoration-color: #00af00\">0</span>],    │\n",
       "│ (<span style=\"color: #0087ff; text-decoration-color: #0087ff\">Concatenate</span>)       │ <span style=\"color: #00af00; text-decoration-color: #00af00\">192</span>)              │            │ conv2d_1[<span style=\"color: #00af00; text-decoration-color: #00af00\">0</span>][<span style=\"color: #00af00; text-decoration-color: #00af00\">0</span>]    │\n",
       "├─────────────────────┼───────────────────┼────────────┼───────────────────┤\n",
       "│ dec_dropout4        │ (<span style=\"color: #00d7ff; text-decoration-color: #00d7ff\">None</span>, <span style=\"color: #00af00; text-decoration-color: #00af00\">256</span>, <span style=\"color: #00af00; text-decoration-color: #00af00\">256</span>,  │          <span style=\"color: #00af00; text-decoration-color: #00af00\">0</span> │ dec_concat4[<span style=\"color: #00af00; text-decoration-color: #00af00\">0</span>][<span style=\"color: #00af00; text-decoration-color: #00af00\">0</span>] │\n",
       "│ (<span style=\"color: #0087ff; text-decoration-color: #0087ff\">Dropout</span>)           │ <span style=\"color: #00af00; text-decoration-color: #00af00\">192</span>)              │            │                   │\n",
       "├─────────────────────┼───────────────────┼────────────┼───────────────────┤\n",
       "│ dec4_conv1 (<span style=\"color: #0087ff; text-decoration-color: #0087ff\">Conv2D</span>) │ (<span style=\"color: #00d7ff; text-decoration-color: #00d7ff\">None</span>, <span style=\"color: #00af00; text-decoration-color: #00af00\">256</span>, <span style=\"color: #00af00; text-decoration-color: #00af00\">256</span>,  │    <span style=\"color: #00af00; text-decoration-color: #00af00\">110,656</span> │ dec_dropout4[<span style=\"color: #00af00; text-decoration-color: #00af00\">0</span>][<span style=\"color: #00af00; text-decoration-color: #00af00\">…</span> │\n",
       "│                     │ <span style=\"color: #00af00; text-decoration-color: #00af00\">64</span>)               │            │                   │\n",
       "├─────────────────────┼───────────────────┼────────────┼───────────────────┤\n",
       "│ dec4_conv2 (<span style=\"color: #0087ff; text-decoration-color: #0087ff\">Conv2D</span>) │ (<span style=\"color: #00d7ff; text-decoration-color: #00d7ff\">None</span>, <span style=\"color: #00af00; text-decoration-color: #00af00\">256</span>, <span style=\"color: #00af00; text-decoration-color: #00af00\">256</span>,  │     <span style=\"color: #00af00; text-decoration-color: #00af00\">36,928</span> │ dec4_conv1[<span style=\"color: #00af00; text-decoration-color: #00af00\">0</span>][<span style=\"color: #00af00; text-decoration-color: #00af00\">0</span>]  │\n",
       "│                     │ <span style=\"color: #00af00; text-decoration-color: #00af00\">64</span>)               │            │                   │\n",
       "├─────────────────────┼───────────────────┼────────────┼───────────────────┤\n",
       "│ output_layer        │ (<span style=\"color: #00d7ff; text-decoration-color: #00d7ff\">None</span>, <span style=\"color: #00af00; text-decoration-color: #00af00\">256</span>, <span style=\"color: #00af00; text-decoration-color: #00af00\">256</span>,  │         <span style=\"color: #00af00; text-decoration-color: #00af00\">65</span> │ dec4_conv2[<span style=\"color: #00af00; text-decoration-color: #00af00\">0</span>][<span style=\"color: #00af00; text-decoration-color: #00af00\">0</span>]  │\n",
       "│ (<span style=\"color: #0087ff; text-decoration-color: #0087ff\">Conv2D</span>)            │ <span style=\"color: #00af00; text-decoration-color: #00af00\">1</span>)                │            │                   │\n",
       "└─────────────────────┴───────────────────┴────────────┴───────────────────┘\n",
       "</pre>\n"
      ]
     },
     "metadata": {},
     "output_type": "display_data"
    },
    {
     "data": {
      "text/plain": [
       "\u001B[1m Total params: \u001B[0m\u001B[38;5;34m31,377,797\u001B[0m (119.70 MB)\n"
      ],
      "text/html": [
       "<pre style=\"white-space:pre;overflow-x:auto;line-height:normal;font-family:Menlo,'DejaVu Sans Mono',consolas,'Courier New',monospace\"><span style=\"font-weight: bold\"> Total params: </span><span style=\"color: #00af00; text-decoration-color: #00af00\">31,377,797</span> (119.70 MB)\n",
       "</pre>\n"
      ]
     },
     "metadata": {},
     "output_type": "display_data"
    },
    {
     "data": {
      "text/plain": [
       "\u001B[1m Trainable params: \u001B[0m\u001B[38;5;34m12,535,747\u001B[0m (47.82 MB)\n"
      ],
      "text/html": [
       "<pre style=\"white-space:pre;overflow-x:auto;line-height:normal;font-family:Menlo,'DejaVu Sans Mono',consolas,'Courier New',monospace\"><span style=\"font-weight: bold\"> Trainable params: </span><span style=\"color: #00af00; text-decoration-color: #00af00\">12,535,747</span> (47.82 MB)\n",
       "</pre>\n"
      ]
     },
     "metadata": {},
     "output_type": "display_data"
    },
    {
     "data": {
      "text/plain": [
       "\u001B[1m Non-trainable params: \u001B[0m\u001B[38;5;34m18,842,050\u001B[0m (71.88 MB)\n"
      ],
      "text/html": [
       "<pre style=\"white-space:pre;overflow-x:auto;line-height:normal;font-family:Menlo,'DejaVu Sans Mono',consolas,'Courier New',monospace\"><span style=\"font-weight: bold\"> Non-trainable params: </span><span style=\"color: #00af00; text-decoration-color: #00af00\">18,842,050</span> (71.88 MB)\n",
       "</pre>\n"
      ]
     },
     "metadata": {},
     "output_type": "display_data"
    }
   ],
   "execution_count": 6
  },
  {
   "metadata": {
    "ExecuteTime": {
     "end_time": "2025-07-28T20:18:35.959712Z",
     "start_time": "2025-07-28T20:18:35.956493Z"
    }
   },
   "cell_type": "code",
   "source": [
    "# Check if encoder layers are present and trainable\n",
    "for layer in pipeline.model.layers:\n",
    "    print(layer.name, layer.trainable)\n"
   ],
   "id": "f081a6ef0d2f3899",
   "outputs": [
    {
     "name": "stdout",
     "output_type": "stream",
     "text": [
      "input_layer True\n",
      "input_batch_norm True\n",
      "conv2d False\n",
      "conv2d_1 False\n",
      "max_pooling2d False\n",
      "conv2d_2 False\n",
      "conv2d_3 False\n",
      "max_pooling2d_1 False\n",
      "conv2d_4 False\n",
      "conv2d_5 False\n",
      "max_pooling2d_2 False\n",
      "conv2d_6 False\n",
      "conv2d_7 False\n",
      "max_pooling2d_3 False\n",
      "conv2d_8 False\n",
      "conv2d_9 False\n",
      "dec_up1 True\n",
      "dec_concat1 True\n",
      "dec_dropout1 True\n",
      "dec1_conv1 True\n",
      "dec1_conv2 True\n",
      "dec_up2 True\n",
      "dec_concat2 True\n",
      "dec_dropout2 True\n",
      "dec2_conv1 True\n",
      "dec2_conv2 True\n",
      "dec_up3 True\n",
      "dec_concat3 True\n",
      "dec_dropout3 True\n",
      "dec3_conv1 True\n",
      "dec3_conv2 True\n",
      "dec_up4 True\n",
      "dec_concat4 True\n",
      "dec_dropout4 True\n",
      "dec4_conv1 True\n",
      "dec4_conv2 True\n",
      "output_layer True\n"
     ]
    }
   ],
   "execution_count": 7
  },
  {
   "metadata": {},
   "cell_type": "markdown",
   "source": "#### Training",
   "id": "a75f011da127a827"
  },
  {
   "metadata": {
    "jupyter": {
     "is_executing": true
    },
    "ExecuteTime": {
     "start_time": "2025-07-28T20:19:03.709738Z"
    }
   },
   "cell_type": "code",
   "source": [
    "import tensorflow as tf\n",
    "\n",
    "\n",
    "# Recompile the full model (important!)\n",
    "pipeline.model.compile(\n",
    "    optimizer=tf.keras.optimizers.Adam(),  # usually use a lower LR\n",
    "    loss=pipeline.loss,\n",
    "    metrics=pipeline.metrics\n",
    ")\n",
    "\n",
    "# 25 patients: (3139, 256, 256, 1) (364, 256, 256, 1) (366, 256, 256, 1)\n",
    "print(X_train.shape, X_val.shape, X_test.shape)\n",
    "\n",
    "history = pipeline.fit(X_train, Y_train, X_val, Y_val, epochs=25, batch_size=16, verbose=2)\n"
   ],
   "id": "1ba47eb58038137b",
   "outputs": [
    {
     "name": "stdout",
     "output_type": "stream",
     "text": [
      "(3139, 256, 256, 1) (364, 256, 256, 1) (366, 256, 256, 1)\n",
      "Epoch 1/25\n"
     ]
    },
    {
     "name": "stderr",
     "output_type": "stream",
     "text": [
      "2025-07-28 23:19:04.612019: I tensorflow/core/grappler/optimizers/custom_graph_optimizer_registry.cc:117] Plugin optimizer for device_type GPU is enabled.\n"
     ]
    }
   ],
   "execution_count": null
  },
  {
   "metadata": {},
   "cell_type": "code",
   "source": [
    "# Saving the pipeline model\n",
    "model_name = f\"UNet_Model/saved_models/unet_ct_liver_mae_120_encoder_8ptc_50rati_{number_of_ct_patients}_tr_lr_x_best_full.keras\"\n",
    "\n",
    "pipeline.save(model_name)\n"
   ],
   "id": "158158913e8bb789",
   "outputs": [],
   "execution_count": null
  },
  {
   "metadata": {},
   "cell_type": "code",
   "source": [
    "import tensorflow as tf\n",
    "\n",
    "for layer in pipeline.model.layers:\n",
    "    layer.trainable = True\n",
    "\n",
    "# Recompile the full model (important!)\n",
    "pipeline.model.compile(\n",
    "    optimizer=tf.keras.optimizers.Adam(),  # usually use a lower LR\n",
    "    loss=pipeline.loss,\n",
    "    metrics=pipeline.metrics\n",
    ")\n",
    "\n",
    "pipeline.summary()"
   ],
   "id": "5888e590d5fb4d7f",
   "outputs": [],
   "execution_count": null
  },
  {
   "metadata": {},
   "cell_type": "code",
   "source": [
    "print(X_train.shape, X_val.shape, X_test.shape)\n",
    "\n",
    "history2 = pipeline.fit(X_train, Y_train, X_val, Y_val, epochs=35, batch_size=16, verbose=2)"
   ],
   "id": "dbe4d3b583006fd",
   "outputs": [],
   "execution_count": null
  },
  {
   "metadata": {},
   "cell_type": "markdown",
   "source": "#### Evaluation",
   "id": "44cf93dc9128178"
  },
  {
   "metadata": {},
   "cell_type": "code",
   "source": [
    "# from UNet_Model.segmentation_evaluator import SegmentationEvaluator\n",
    "#\n",
    "test_score = pipeline.evaluate(X_test_ssl, Y_test_ssl)\n",
    "print(f\"Dice: {test_score[1]:.4f}, IoU: {test_score[2]:.4f}, Loss: {test_score[0]:.4f}\")\n"
   ],
   "id": "84032e1ec6153724",
   "outputs": [],
   "execution_count": null
  },
  {
   "metadata": {},
   "cell_type": "code",
   "source": [
    "from UNet_Model.orig_segmentation_evaluator import SegmentationEvaluator\n",
    "\n",
    "evaluator = SegmentationEvaluator(pipeline)\n",
    "\n",
    "mean_dice, mean_iou, dice_patients, iou_patients = evaluator.evaluate(X_test_ssl, Y_test_ssl)\n"
   ],
   "id": "3f7087797c7784bf",
   "outputs": [],
   "execution_count": null
  },
  {
   "metadata": {},
   "cell_type": "markdown",
   "source": "#### history",
   "id": "510e69a11ee14a77"
  },
  {
   "metadata": {},
   "cell_type": "code",
   "source": [
    "import matplotlib.pyplot as plt\n",
    "\n",
    "def plot_training_history(history_dict, metrics=(\"loss\", \"dice_coef\", \"iou_metric\")):\n",
    "    \"\"\"\n",
    "    Plot training and validation curves for selected metrics.\n",
    "\n",
    "    Args:\n",
    "        history_dict: Dict returned from model.history or load_training_history()\n",
    "        metrics: Tuple of metric names to plot\n",
    "    \"\"\"\n",
    "    for metric in metrics:\n",
    "        if metric in history_dict:\n",
    "            plt.plot(history_dict[metric], label=f\"Train {metric}\")\n",
    "        val_key = f\"val_{metric}\"\n",
    "        if val_key in history_dict:\n",
    "            plt.plot(history_dict[val_key], label=f\"Val {metric}\")\n",
    "\n",
    "    plt.xlabel(\"Epoch\")\n",
    "    plt.ylabel(\"Value\")\n",
    "    plt.title(\"Training History\")\n",
    "    plt.legend()\n",
    "    plt.grid(True)\n",
    "    plt.tight_layout()\n",
    "    plt.show()"
   ],
   "id": "29d69fb806b0f4e0",
   "outputs": [],
   "execution_count": null
  },
  {
   "metadata": {},
   "cell_type": "code",
   "source": [
    "\n",
    "plot_training_history(history.history, metrics=(\"loss\", \"dice_coef\", \"iou_metric\"))"
   ],
   "id": "25e6d518c6e63eef",
   "outputs": [],
   "execution_count": null
  },
  {
   "metadata": {},
   "cell_type": "code",
   "source": [
    "file_history_name = f\"UNet_Model/saved_models/unet_ct_history_{number_of_ct_patients}\"\n",
    "\n",
    "pipeline.save_training_history(history, file_history_name, format=\"json\")"
   ],
   "id": "f6a8ca4a6fb66f1b",
   "outputs": [],
   "execution_count": null
  },
  {
   "metadata": {},
   "cell_type": "code",
   "source": [
    "\n",
    "# Later or in another script\n",
    "history_dict = pipeline.load_training_history(file_history_name, format=\"json\")\n",
    "\n",
    "plot_training_history(history_dict, metrics=(\"loss\", \"dice_coef\", \"iou_metric\"))\n",
    "\n",
    "# plot_training_history(history_dict, metrics=(\"loss\",))"
   ],
   "id": "8a31372dc30d2cc7",
   "outputs": [],
   "execution_count": null
  },
  {
   "metadata": {},
   "cell_type": "markdown",
   "source": "# Prediction",
   "id": "3c7e6833abefb2d8"
  },
  {
   "metadata": {},
   "cell_type": "code",
   "outputs": [],
   "execution_count": null,
   "source": [
    "from UNet_Model.segmentation_evaluator import SegmentationEvaluator\n",
    "\n",
    "Y_pred = pipeline.predict(X_test_ssl)\n",
    "\n",
    "Y_pred_binary = (Y_pred > 0.5).astype(np.float32)\n",
    "\n",
    "evaluator = SegmentationEvaluator(pipeline)\n"
   ],
   "id": "9dce9d3a193e11dd"
  },
  {
   "metadata": {},
   "cell_type": "code",
   "outputs": [],
   "execution_count": null,
   "source": [
    "import numpy as np\n",
    "\n",
    "dice_scores = [evaluator.compute_dice(Y_test_ssl[i], Y_pred_binary[i])\n",
    "               for i in range(len(Y_test_ssl))]\n",
    "\n",
    "avg_dice = np.mean(dice_scores)\n",
    "std_dice = np.std(dice_scores)\n",
    "\n",
    "print(f\"AVG dice score: {avg_dice:.4f} ± {std_dice:.4f}\")\n",
    "\n",
    "# AVG dice score: 0.7490 ± 0.2650\n"
   ],
   "id": "9ee8c27f32fe24af"
  },
  {
   "metadata": {},
   "cell_type": "code",
   "source": [
    "iou_scores = [evaluator.compute_iou(Y_test_ssl[i], Y_pred_binary[i])\n",
    "               for i in range(len(Y_test_ssl))]\n",
    "\n",
    "avg_iou = np.mean(iou_scores)\n",
    "std_iou = np.std(iou_scores)\n",
    "\n",
    "print(f\"AVG iou score: {avg_iou:.4f} ± {std_iou:.4f}\")\n",
    "\n",
    "# AVG iou score: 0.6546 ± 0.2679"
   ],
   "id": "389cc1b8df563154",
   "outputs": [],
   "execution_count": null
  },
  {
   "metadata": {},
   "cell_type": "code",
   "source": [
    "\n",
    "evaluator.visualize_masked(X_test_ssl, Y_test_ssl, Y_pred_binary, dice_scores, num_examples=10, seed=42)\n"
   ],
   "id": "9124c2785efe0377",
   "outputs": [],
   "execution_count": null
  },
  {
   "metadata": {},
   "cell_type": "code",
   "source": [
    "\n",
    "global_scores = [evaluator.compute_global_metrics(Y_global_test[i], Y_pred_binary[i])\n",
    "               for i in range(len(Y_global_test))]\n",
    "\n",
    "# Initialize dictionary for accumulating sums\n",
    "metric_sums = {key: 0.0 for key in global_scores[0]}\n",
    "\n",
    "# Sum all values\n",
    "for score in global_scores:\n",
    "    for key in score:\n",
    "        metric_sums[key] += score[key]\n",
    "\n",
    "# Average\n",
    "num_items = len(global_scores)\n",
    "avg_scores = {key: metric_sums[key] / num_items for key in metric_sums}\n",
    "\n",
    "# Print result\n",
    "print(\"Average metrics over all slices:\")\n",
    "for metric, value in avg_scores.items():\n",
    "    print(f\"{metric}: {value:.4f}\")\n",
    "\n",
    "#Average metrics over all slices: accuracy: 0.9766 precision: 0.7750 recall: 0.7566 f2_score: 0.7475"
   ],
   "id": "7c754c8e4d404f3e",
   "outputs": [],
   "execution_count": null
  },
  {
   "metadata": {},
   "cell_type": "code",
   "source": [
    "import numpy as np\n",
    "\n",
    "def limit_test_patients(X_test_all, Y_test_all, patient_ids, max_patients=1):\n",
    "    \"\"\"\n",
    "    Limit test data to the first `max_patients` and return concatenated slices with patient IDs.\n",
    "\n",
    "    Args:\n",
    "        X_test_all (list of np.ndarray): Test CT volumes per patient\n",
    "        Y_test_all (list of np.ndarray): Test segmentation masks per patient\n",
    "        patient_ids (list of str): Patient IDs corresponding to each volume\n",
    "        max_patients (int): Max number of patients to include in test set\n",
    "\n",
    "    Returns:\n",
    "        X_test (np.ndarray): Flattened test images from selected patients\n",
    "        Y_test (np.ndarray): Flattened test masks from selected patients\n",
    "        slice_patient_ids (list of str): Slice-level patient ID list\n",
    "    \"\"\"\n",
    "    selected_X = X_test_all[:max_patients]\n",
    "    selected_Y = Y_test_all[:max_patients]\n",
    "    selected_ids = patient_ids[:max_patients]\n",
    "\n",
    "    X_test = np.concatenate(selected_X, axis=0)\n",
    "    Y_test = np.concatenate(selected_Y, axis=0)\n",
    "\n",
    "    slice_patient_ids = [\n",
    "        pid for pid, vol in zip(selected_ids, selected_X) for _ in range(vol.shape[0])\n",
    "    ]\n",
    "\n",
    "    return X_test, Y_test, slice_patient_ids\n"
   ],
   "id": "90a214e94f271b3f",
   "outputs": [],
   "execution_count": null
  },
  {
   "metadata": {},
   "cell_type": "code",
   "source": "len(X_global_test), len(Y_global_test), len(patient_ids)",
   "id": "9e381d7ac57b557a",
   "outputs": [],
   "execution_count": null
  },
  {
   "metadata": {},
   "cell_type": "code",
   "source": [
    "print(\"total patients for testing:\", len(test_idx))\n",
    "\n",
    "X_test_all = [X_all[i] for i in test_idx]\n",
    "Y_test_all = [Y_all[i] for i in test_idx]\n",
    "patient_ids_test = [patient_ids[i] for i in test_idx]\n",
    "\n",
    "X_test_limited, Y_test_limited, slice_patient_ids = limit_test_patients(X_test_all, Y_test_all, patient_ids_test, max_patients=25)\n",
    "\n",
    "print(X_test_limited.shape, Y_test_limited.shape, len(slice_patient_ids))"
   ],
   "id": "1b833da6e2ba5c6b",
   "outputs": [],
   "execution_count": null
  },
  {
   "metadata": {},
   "cell_type": "code",
   "source": [
    "from UNet_Model.orig_segmentation_evaluator import SegmentationEvaluator\n",
    "\n",
    "evaluator = SegmentationEvaluator(pipeline)\n",
    "\n",
    "# Run full eval\n",
    "mean_dice, mean_iou, dice_patients, iou_patients = evaluator.evaluate(\n",
    "    X_test_limited, Y_test_limited, patient_ids=slice_patient_ids\n",
    ")\n"
   ],
   "id": "6e423e07929a9d94",
   "outputs": [],
   "execution_count": null
  },
  {
   "metadata": {},
   "cell_type": "code",
   "source": [
    "Y_pred = pipeline.predict(X_test_limited)\n",
    "Y_pred_binary = (Y_pred > 0.5).astype(np.float32)\n",
    "\n",
    "dice_scores = [evaluator.compute_dice(Y_test_limited[i], Y_pred_binary[i])\n",
    "               for i in range(len(Y_test_limited))]\n",
    "\n",
    "evaluator.visualize(X_test_limited, Y_test_limited, Y_pred_binary, dice_scores, num_examples=3)"
   ],
   "id": "d22d62c759635fc4",
   "outputs": [],
   "execution_count": null
  },
  {
   "metadata": {},
   "cell_type": "markdown",
   "source": "## LAB",
   "id": "ba8a1ef7163bd38b"
  },
  {
   "metadata": {},
   "cell_type": "code",
   "source": [
    "binary = False\n",
    "\n",
    "slices_per_image_to_display = 4\n",
    "\n",
    "num_of_images = 1\n",
    "\n",
    "for i in range(num_of_images):\n",
    "    image_name = f\"liver_{i}.nii.gz\"\n",
    "    ct_vol = f\"{liver_images_path}/{image_name}\"\n",
    "    label_vol = f\"{liver_labels_path}/{image_name}\"\n",
    "\n",
    "    X, Y, info = imgProcessor.prepare_segmentation_dataset(ct_vol, label_vol, binary=binary)\n",
    "\n",
    "    print(f\"Image:{image_name}, slices: {len(X)}\")\n",
    "\n",
    "    ctVisualizer.display_XY_samples(X, Y, max_slices=slices_per_image_to_display, binary=binary)"
   ],
   "id": "5425e6d278e906eb",
   "outputs": [],
   "execution_count": null
  }
 ],
 "metadata": {
  "kernelspec": {
   "display_name": "Python 3",
   "language": "python",
   "name": "python3"
  },
  "language_info": {
   "codemirror_mode": {
    "name": "ipython",
    "version": 2
   },
   "file_extension": ".py",
   "mimetype": "text/x-python",
   "name": "python",
   "nbconvert_exporter": "python",
   "pygments_lexer": "ipython2",
   "version": "2.7.6"
  }
 },
 "nbformat": 4,
 "nbformat_minor": 5
}
